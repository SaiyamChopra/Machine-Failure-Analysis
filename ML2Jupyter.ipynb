{
 "cells": [
  {
   "cell_type": "code",
   "execution_count": 20,
   "metadata": {},
   "outputs": [],
   "source": [
    "import pandas as pd\n",
    "import numpy as np\n",
    "import matplotlib.pyplot as plt\n",
    "import seaborn as sns\n",
    "import plotly.express as px\n",
    "from sklearn.ensemble import IsolationForest\n",
    "from sklearn.preprocessing import MinMaxScaler\n",
    "\n",
    "\n"
   ]
  },
  {
   "cell_type": "code",
   "execution_count": 21,
   "metadata": {},
   "outputs": [
    {
     "name": "stdout",
     "output_type": "stream",
     "text": [
      "🔍 Data Preview:\n"
     ]
    },
    {
     "data": {
      "text/html": [
       "<div>\n",
       "<style scoped>\n",
       "    .dataframe tbody tr th:only-of-type {\n",
       "        vertical-align: middle;\n",
       "    }\n",
       "\n",
       "    .dataframe tbody tr th {\n",
       "        vertical-align: top;\n",
       "    }\n",
       "\n",
       "    .dataframe thead th {\n",
       "        text-align: right;\n",
       "    }\n",
       "</style>\n",
       "<table border=\"1\" class=\"dataframe\">\n",
       "  <thead>\n",
       "    <tr style=\"text-align: right;\">\n",
       "      <th></th>\n",
       "      <th>Temperature</th>\n",
       "      <th>Vibration</th>\n",
       "      <th>Power_Usage</th>\n",
       "      <th>Humidity</th>\n",
       "      <th>Machine_Type</th>\n",
       "      <th>Failure_Risk</th>\n",
       "    </tr>\n",
       "  </thead>\n",
       "  <tbody>\n",
       "    <tr>\n",
       "      <th>0</th>\n",
       "      <td>74.967142</td>\n",
       "      <td>56.996777</td>\n",
       "      <td>8.649643</td>\n",
       "      <td>20.460962</td>\n",
       "      <td>Mill</td>\n",
       "      <td>1</td>\n",
       "    </tr>\n",
       "    <tr>\n",
       "      <th>1</th>\n",
       "      <td>68.617357</td>\n",
       "      <td>54.623168</td>\n",
       "      <td>9.710963</td>\n",
       "      <td>25.698075</td>\n",
       "      <td>Lathe</td>\n",
       "      <td>0</td>\n",
       "    </tr>\n",
       "    <tr>\n",
       "      <th>2</th>\n",
       "      <td>76.476885</td>\n",
       "      <td>50.298152</td>\n",
       "      <td>8.415160</td>\n",
       "      <td>27.931972</td>\n",
       "      <td>Drill</td>\n",
       "      <td>1</td>\n",
       "    </tr>\n",
       "    <tr>\n",
       "      <th>3</th>\n",
       "      <td>85.230299</td>\n",
       "      <td>46.765316</td>\n",
       "      <td>9.384077</td>\n",
       "      <td>39.438438</td>\n",
       "      <td>Lathe</td>\n",
       "      <td>1</td>\n",
       "    </tr>\n",
       "    <tr>\n",
       "      <th>4</th>\n",
       "      <td>67.658466</td>\n",
       "      <td>53.491117</td>\n",
       "      <td>6.212771</td>\n",
       "      <td>32.782766</td>\n",
       "      <td>Drill</td>\n",
       "      <td>1</td>\n",
       "    </tr>\n",
       "  </tbody>\n",
       "</table>\n",
       "</div>"
      ],
      "text/plain": [
       "   Temperature  Vibration  Power_Usage   Humidity Machine_Type  Failure_Risk\n",
       "0    74.967142  56.996777     8.649643  20.460962         Mill             1\n",
       "1    68.617357  54.623168     9.710963  25.698075        Lathe             0\n",
       "2    76.476885  50.298152     8.415160  27.931972        Drill             1\n",
       "3    85.230299  46.765316     9.384077  39.438438        Lathe             1\n",
       "4    67.658466  53.491117     6.212771  32.782766        Drill             1"
      ]
     },
     "metadata": {},
     "output_type": "display_data"
    },
    {
     "name": "stdout",
     "output_type": "stream",
     "text": [
      "✅ Dataset Shape: (1000, 8)\n"
     ]
    }
   ],
   "source": [
    "# Load dataset\n",
    "DATA_PATH = \"machine_failure_dataset.csv\"\n",
    "\n",
    "# Function to load and preprocess data\n",
    "def load_and_preprocess_data():\n",
    "    df = pd.read_csv(DATA_PATH)\n",
    "\n",
    "    # Display first few rows\n",
    "    print(\"🔍 Data Preview:\")\n",
    "    display(df.head())\n",
    "\n",
    "    # Handle missing values\n",
    "    df.fillna(df.median(numeric_only=True), inplace=True)\n",
    "\n",
    "    # Normalize sensor readings\n",
    "    scaler = MinMaxScaler()\n",
    "    numeric_cols = df.select_dtypes(include=['number']).columns\n",
    "    df[numeric_cols] = scaler.fit_transform(df[numeric_cols])\n",
    "\n",
    "    # One-hot encode Machine Type\n",
    "    machine_types = [\"Drill\", \"Mill\", \"Lathe\"]\n",
    "    df = pd.get_dummies(df, columns=[\"Machine_Type\"], drop_first=False)\n",
    "\n",
    "    # Ensure all machine types exist after encoding\n",
    "    for m in machine_types:\n",
    "        col_name = f\"Machine_Type_{m}\"\n",
    "        if col_name not in df.columns:\n",
    "            df[col_name] = 0  # Add missing columns if not present\n",
    "    \n",
    "    return df\n",
    "\n",
    "# Load and preprocess data\n",
    "df = load_and_preprocess_data()\n",
    "\n",
    "# Display dataset shape\n",
    "print(f\"✅ Dataset Shape: {df.shape}\")\n"
   ]
  },
  {
   "cell_type": "code",
   "execution_count": 22,
   "metadata": {},
   "outputs": [
    {
     "name": "stdout",
     "output_type": "stream",
     "text": [
      "🔍 Data after Failure Risk Classification:\n"
     ]
    },
    {
     "data": {
      "text/html": [
       "<div>\n",
       "<style scoped>\n",
       "    .dataframe tbody tr th:only-of-type {\n",
       "        vertical-align: middle;\n",
       "    }\n",
       "\n",
       "    .dataframe tbody tr th {\n",
       "        vertical-align: top;\n",
       "    }\n",
       "\n",
       "    .dataframe thead th {\n",
       "        text-align: right;\n",
       "    }\n",
       "</style>\n",
       "<table border=\"1\" class=\"dataframe\">\n",
       "  <thead>\n",
       "    <tr style=\"text-align: right;\">\n",
       "      <th></th>\n",
       "      <th>Temperature</th>\n",
       "      <th>Vibration</th>\n",
       "      <th>Power_Usage</th>\n",
       "      <th>Humidity</th>\n",
       "      <th>Failure_Risk</th>\n",
       "      <th>Machine_Type_Drill</th>\n",
       "      <th>Machine_Type_Lathe</th>\n",
       "      <th>Machine_Type_Mill</th>\n",
       "      <th>Failure_Status</th>\n",
       "    </tr>\n",
       "  </thead>\n",
       "  <tbody>\n",
       "    <tr>\n",
       "      <th>0</th>\n",
       "      <td>0.526922</td>\n",
       "      <td>0.707548</td>\n",
       "      <td>0.337521</td>\n",
       "      <td>0.165514</td>\n",
       "      <td>1.0</td>\n",
       "      <td>False</td>\n",
       "      <td>False</td>\n",
       "      <td>True</td>\n",
       "      <td>Failure Risk</td>\n",
       "    </tr>\n",
       "    <tr>\n",
       "      <th>1</th>\n",
       "      <td>0.437412</td>\n",
       "      <td>0.630150</td>\n",
       "      <td>0.413921</td>\n",
       "      <td>0.335204</td>\n",
       "      <td>0.0</td>\n",
       "      <td>False</td>\n",
       "      <td>True</td>\n",
       "      <td>False</td>\n",
       "      <td>No Failure</td>\n",
       "    </tr>\n",
       "    <tr>\n",
       "      <th>2</th>\n",
       "      <td>0.548204</td>\n",
       "      <td>0.489121</td>\n",
       "      <td>0.320641</td>\n",
       "      <td>0.407586</td>\n",
       "      <td>1.0</td>\n",
       "      <td>True</td>\n",
       "      <td>False</td>\n",
       "      <td>False</td>\n",
       "      <td>Failure Risk</td>\n",
       "    </tr>\n",
       "    <tr>\n",
       "      <th>3</th>\n",
       "      <td>0.671595</td>\n",
       "      <td>0.373922</td>\n",
       "      <td>0.390390</td>\n",
       "      <td>0.780414</td>\n",
       "      <td>1.0</td>\n",
       "      <td>False</td>\n",
       "      <td>True</td>\n",
       "      <td>False</td>\n",
       "      <td>Failure Risk</td>\n",
       "    </tr>\n",
       "    <tr>\n",
       "      <th>4</th>\n",
       "      <td>0.423895</td>\n",
       "      <td>0.593236</td>\n",
       "      <td>0.162099</td>\n",
       "      <td>0.564760</td>\n",
       "      <td>1.0</td>\n",
       "      <td>True</td>\n",
       "      <td>False</td>\n",
       "      <td>False</td>\n",
       "      <td>Failure Risk</td>\n",
       "    </tr>\n",
       "  </tbody>\n",
       "</table>\n",
       "</div>"
      ],
      "text/plain": [
       "   Temperature  Vibration  Power_Usage  Humidity  Failure_Risk  \\\n",
       "0     0.526922   0.707548     0.337521  0.165514           1.0   \n",
       "1     0.437412   0.630150     0.413921  0.335204           0.0   \n",
       "2     0.548204   0.489121     0.320641  0.407586           1.0   \n",
       "3     0.671595   0.373922     0.390390  0.780414           1.0   \n",
       "4     0.423895   0.593236     0.162099  0.564760           1.0   \n",
       "\n",
       "   Machine_Type_Drill  Machine_Type_Lathe  Machine_Type_Mill Failure_Status  \n",
       "0               False               False               True   Failure Risk  \n",
       "1               False                True              False     No Failure  \n",
       "2                True               False              False   Failure Risk  \n",
       "3               False                True              False   Failure Risk  \n",
       "4                True               False              False   Failure Risk  "
      ]
     },
     "metadata": {},
     "output_type": "display_data"
    }
   ],
   "source": [
    "# Function to classify failure risk\n",
    "def classify_failure_risk(df):\n",
    "    df[\"Failure_Status\"] = df[\"Failure_Risk\"].map({0: \"No Failure\", 1: \"Failure Risk\"})\n",
    "    return df\n",
    "\n",
    "# Apply failure risk classification\n",
    "df = classify_failure_risk(df)\n",
    "\n",
    "# Display first few rows after classification\n",
    "print(\"🔍 Data after Failure Risk Classification:\")\n",
    "display(df.head())\n"
   ]
  },
  {
   "cell_type": "code",
   "execution_count": 23,
   "metadata": {},
   "outputs": [
    {
     "name": "stdout",
     "output_type": "stream",
     "text": [
      "🔍 Data after Anomaly Detection:\n"
     ]
    },
    {
     "data": {
      "text/html": [
       "<div>\n",
       "<style scoped>\n",
       "    .dataframe tbody tr th:only-of-type {\n",
       "        vertical-align: middle;\n",
       "    }\n",
       "\n",
       "    .dataframe tbody tr th {\n",
       "        vertical-align: top;\n",
       "    }\n",
       "\n",
       "    .dataframe thead th {\n",
       "        text-align: right;\n",
       "    }\n",
       "</style>\n",
       "<table border=\"1\" class=\"dataframe\">\n",
       "  <thead>\n",
       "    <tr style=\"text-align: right;\">\n",
       "      <th></th>\n",
       "      <th>Temperature</th>\n",
       "      <th>Vibration</th>\n",
       "      <th>Power_Usage</th>\n",
       "      <th>Humidity</th>\n",
       "      <th>Failure_Risk</th>\n",
       "      <th>Machine_Type_Drill</th>\n",
       "      <th>Machine_Type_Lathe</th>\n",
       "      <th>Machine_Type_Mill</th>\n",
       "      <th>Failure_Status</th>\n",
       "      <th>Anomaly</th>\n",
       "    </tr>\n",
       "  </thead>\n",
       "  <tbody>\n",
       "    <tr>\n",
       "      <th>0</th>\n",
       "      <td>0.526922</td>\n",
       "      <td>0.707548</td>\n",
       "      <td>0.337521</td>\n",
       "      <td>0.165514</td>\n",
       "      <td>1.0</td>\n",
       "      <td>False</td>\n",
       "      <td>False</td>\n",
       "      <td>True</td>\n",
       "      <td>Failure Risk</td>\n",
       "      <td>Normal</td>\n",
       "    </tr>\n",
       "    <tr>\n",
       "      <th>1</th>\n",
       "      <td>0.437412</td>\n",
       "      <td>0.630150</td>\n",
       "      <td>0.413921</td>\n",
       "      <td>0.335204</td>\n",
       "      <td>0.0</td>\n",
       "      <td>False</td>\n",
       "      <td>True</td>\n",
       "      <td>False</td>\n",
       "      <td>No Failure</td>\n",
       "      <td>Normal</td>\n",
       "    </tr>\n",
       "    <tr>\n",
       "      <th>2</th>\n",
       "      <td>0.548204</td>\n",
       "      <td>0.489121</td>\n",
       "      <td>0.320641</td>\n",
       "      <td>0.407586</td>\n",
       "      <td>1.0</td>\n",
       "      <td>True</td>\n",
       "      <td>False</td>\n",
       "      <td>False</td>\n",
       "      <td>Failure Risk</td>\n",
       "      <td>Normal</td>\n",
       "    </tr>\n",
       "    <tr>\n",
       "      <th>3</th>\n",
       "      <td>0.671595</td>\n",
       "      <td>0.373922</td>\n",
       "      <td>0.390390</td>\n",
       "      <td>0.780414</td>\n",
       "      <td>1.0</td>\n",
       "      <td>False</td>\n",
       "      <td>True</td>\n",
       "      <td>False</td>\n",
       "      <td>Failure Risk</td>\n",
       "      <td>Normal</td>\n",
       "    </tr>\n",
       "    <tr>\n",
       "      <th>4</th>\n",
       "      <td>0.423895</td>\n",
       "      <td>0.593236</td>\n",
       "      <td>0.162099</td>\n",
       "      <td>0.564760</td>\n",
       "      <td>1.0</td>\n",
       "      <td>True</td>\n",
       "      <td>False</td>\n",
       "      <td>False</td>\n",
       "      <td>Failure Risk</td>\n",
       "      <td>Normal</td>\n",
       "    </tr>\n",
       "  </tbody>\n",
       "</table>\n",
       "</div>"
      ],
      "text/plain": [
       "   Temperature  Vibration  Power_Usage  Humidity  Failure_Risk  \\\n",
       "0     0.526922   0.707548     0.337521  0.165514           1.0   \n",
       "1     0.437412   0.630150     0.413921  0.335204           0.0   \n",
       "2     0.548204   0.489121     0.320641  0.407586           1.0   \n",
       "3     0.671595   0.373922     0.390390  0.780414           1.0   \n",
       "4     0.423895   0.593236     0.162099  0.564760           1.0   \n",
       "\n",
       "   Machine_Type_Drill  Machine_Type_Lathe  Machine_Type_Mill Failure_Status  \\\n",
       "0               False               False               True   Failure Risk   \n",
       "1               False                True              False     No Failure   \n",
       "2                True               False              False   Failure Risk   \n",
       "3               False                True              False   Failure Risk   \n",
       "4                True               False              False   Failure Risk   \n",
       "\n",
       "  Anomaly  \n",
       "0  Normal  \n",
       "1  Normal  \n",
       "2  Normal  \n",
       "3  Normal  \n",
       "4  Normal  "
      ]
     },
     "metadata": {},
     "output_type": "display_data"
    }
   ],
   "source": [
    "from sklearn.ensemble import IsolationForest\n",
    "\n",
    "# Function to detect anomalies using Isolation Forest\n",
    "def detect_anomalies(df, feature_columns):\n",
    "    model = IsolationForest(contamination=0.05, random_state=42)\n",
    "    df[\"Anomaly\"] = model.fit_predict(df[feature_columns])\n",
    "    df[\"Anomaly\"] = df[\"Anomaly\"].map({1: \"Normal\", -1: \"Anomaly\"})\n",
    "    return df\n",
    "\n",
    "# Apply anomaly detection\n",
    "df = detect_anomalies(df, [\"Temperature\", \"Vibration\", \"Power_Usage\", \"Humidity\"])\n",
    "\n",
    "# Display the first few rows after anomaly detection\n",
    "print(\"🔍 Data after Anomaly Detection:\")\n",
    "display(df.head())\n"
   ]
  },
  {
   "cell_type": "code",
   "execution_count": 24,
   "metadata": {},
   "outputs": [
    {
     "data": {
      "image/png": "[encoded data removed]",
      "text/plain": [
       "<Figure size 1000x600 with 2 Axes>"
      ]
     },
     "metadata": {},
     "output_type": "display_data"
    }
   ],
   "source": [
    "import seaborn as sns\n",
    "import matplotlib.pyplot as plt\n",
    "\n",
    "# Generate and display a correlation heatmap\n",
    "plt.figure(figsize=(10, 6))\n",
    "corr_matrix = df.select_dtypes(include=['number']).corr()\n",
    "sns.heatmap(corr_matrix, annot=True, cmap=\"coolwarm\", linewidths=0.5)\n",
    "plt.title(\"Correlation Heatmap of Sensor Data\")\n",
    "plt.show()\n"
   ]
  },
  {
   "cell_type": "code",
   "execution_count": 25,
   "metadata": {},
   "outputs": [
    {
     "name": "stdout",
     "output_type": "stream",
     "text": [
      "Anomaly Count:\n",
      " Anomaly\n",
      "Normal     950\n",
      "Anomaly     50\n",
      "Name: count, dtype: int64\n"
     ]
    },
    {
     "data": {
      "application/vnd.plotly.v1+json": {
       "config": {
        "plotlyServerURL": "https://plot.ly"
       },
       "data": [
        {
         "hovertemplate": "Anomaly=Normal<br>index=%{x}<br>Temperature=%{y}<extra></extra>",
         "legendgroup": "Normal",
         "marker": {
          "color": "#636efa",
          "symbol": "circle"
         },
         "mode": "markers",
         "name": "Normal",
         "orientation": "v",
         "showlegend": true,
         "type": "scatter",
         "x": {
          "bdata": "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",
          "dtype": "i2"
         },
         "xaxis": "x",
         "y": {
          "bdata": "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",
          "dtype": "f8"
         },
         "yaxis": "y"
        },
        {
         "hovertemplate": "Anomaly=Anomaly<br>index=%{x}<br>Temperature=%{y}<extra></extra>",
         "legendgroup": "Anomaly",
         "marker": {
          "color": "#EF553B",
          "symbol": "circle"
         },
         "mode": "markers",
         "name": "Anomaly",
         "orientation": "v",
         "showlegend": true,
         "type": "scatter",
         "x": {
          "bdata": "EQAYACMAQgBKAFMAZQBxAHYAoAClALMAwADRAOkA8QD8AAIBBgEjATEBWgF2AZUBxwHXAd4B4QHiAQcCCQITAiACLAIyAk8CXwJnAswC2QLoAu4C8wJwA38DmAOzA8sD0QPWAw==",
          "dtype": "i2"
         },
         "xaxis": "x",
         "y": {
          "bdata": "4Jg4T9UJ4D/2BZVbnFTYPz7ywAJJOtI/ehv5I5WX3D/YF1IYxG22P/4mJkvrkNg/nkXnsmNy2T9ylLNvcrvpP0hCtZqnxuM/dKlvfc9y1D88ixAlnnvgPx4NfRUk5Oo/7C+lIVss3z8AAAAAAADwPxbJaUj8XNc/Ng1/V+c03D/wOAZ2kTHoP6z4C9p1n+A/AAAAAAAAAADGfAatR8vYPxz341TeTN4/QPLMrnUt0D9CM7CMZVXoP0xZ6XQzbuE/oF2DYbUW1j+MgcnP8vLAP87MAaNfguw/TlgargSf1D9YrAFYbX/NP6jdoA6iAuI/YvYZbmgS4T9g+Xz/CIHMP4DbaR70xbs//sIKSL3X2D8i+WdJ54ziPzh6vXa37tg/JLVezUoD0j9ggoSAVmjePyQdtJ+1Rd4/fq8yulo41j9KQvuPuvTgP676izSi6dQ/rqW8KcR+6j8UOHTI/gTqPxY+vUMQjOE/CjZiG8F24z/ipMl45P/WP0oQhkr3GNc/WDZ/Izh/vT+6IKlbm4TUPw==",
          "dtype": "f8"
         },
         "yaxis": "y"
        }
       ],
       "layout": {
        "legend": {
         "title": {
          "text": "Anomaly"
         },
         "tracegroupgap": 0
        },
        "template": {
         "data": {
          "bar": [
           {
            "error_x": {
             "color": "#2a3f5f"
            },
            "error_y": {
             "color": "#2a3f5f"
            },
            "marker": {
             "line": {
              "color": "#E5ECF6",
              "width": 0.5
             },
             "pattern": {
              "fillmode": "overlay",
              "size": 10,
              "solidity": 0.2
             }
            },
            "type": "bar"
           }
          ],
          "barpolar": [
           {
            "marker": {
             "line": {
              "color": "#E5ECF6",
              "width": 0.5
             },
             "pattern": {
              "fillmode": "overlay",
              "size": 10,
              "solidity": 0.2
             }
            },
            "type": "barpolar"
           }
          ],
          "carpet": [
           {
            "aaxis": {
             "endlinecolor": "#2a3f5f",
             "gridcolor": "white",
             "linecolor": "white",
             "minorgridcolor": "white",
             "startlinecolor": "#2a3f5f"
            },
            "baxis": {
             "endlinecolor": "#2a3f5f",
             "gridcolor": "white",
             "linecolor": "white",
             "minorgridcolor": "white",
             "startlinecolor": "#2a3f5f"
            },
            "type": "carpet"
           }
          ],
          "choropleth": [
           {
            "colorbar": {
             "outlinewidth": 0,
             "ticks": ""
            },
            "type": "choropleth"
           }
          ],
          "contour": [
           {
            "colorbar": {
             "outlinewidth": 0,
             "ticks": ""
            },
            "colorscale": [
             [
              0,
              "#0d0887"
             ],
             [
              0.1111111111111111,
              "#46039f"
             ],
             [
              0.2222222222222222,
              "#7201a8"
             ],
             [
              0.3333333333333333,
              "#9c179e"
             ],
             [
              0.4444444444444444,
              "#bd3786"
             ],
             [
              0.5555555555555556,
              "#d8576b"
             ],
             [
              0.6666666666666666,
              "#ed7953"
             ],
             [
              0.7777777777777778,
              "#fb9f3a"
             ],
             [
              0.8888888888888888,
              "#fdca26"
             ],
             [
              1,
              "#f0f921"
             ]
            ],
            "type": "contour"
           }
          ],
          "contourcarpet": [
           {
            "colorbar": {
             "outlinewidth": 0,
             "ticks": ""
            },
            "type": "contourcarpet"
           }
          ],
          "heatmap": [
           {
            "colorbar": {
             "outlinewidth": 0,
             "ticks": ""
            },
            "colorscale": [
             [
              0,
              "#0d0887"
             ],
             [
              0.1111111111111111,
              "#46039f"
             ],
             [
              0.2222222222222222,
              "#7201a8"
             ],
             [
              0.3333333333333333,
              "#9c179e"
             ],
             [
              0.4444444444444444,
              "#bd3786"
             ],
             [
              0.5555555555555556,
              "#d8576b"
             ],
             [
              0.6666666666666666,
              "#ed7953"
             ],
             [
              0.7777777777777778,
              "#fb9f3a"
             ],
             [
              0.8888888888888888,
              "#fdca26"
             ],
             [
              1,
              "#f0f921"
             ]
            ],
            "type": "heatmap"
           }
          ],
          "histogram": [
           {
            "marker": {
             "pattern": {
              "fillmode": "overlay",
              "size": 10,
              "solidity": 0.2
             }
            },
            "type": "histogram"
           }
          ],
          "histogram2d": [
           {
            "colorbar": {
             "outlinewidth": 0,
             "ticks": ""
            },
            "colorscale": [
             [
              0,
              "#0d0887"
             ],
             [
              0.1111111111111111,
              "#46039f"
             ],
             [
              0.2222222222222222,
              "#7201a8"
             ],
             [
              0.3333333333333333,
              "#9c179e"
             ],
             [
              0.4444444444444444,
              "#bd3786"
             ],
             [
              0.5555555555555556,
              "#d8576b"
             ],
             [
              0.6666666666666666,
              "#ed7953"
             ],
             [
              0.7777777777777778,
              "#fb9f3a"
             ],
             [
              0.8888888888888888,
              "#fdca26"
             ],
             [
              1,
              "#f0f921"
             ]
            ],
            "type": "histogram2d"
           }
          ],
          "histogram2dcontour": [
           {
            "colorbar": {
             "outlinewidth": 0,
             "ticks": ""
            },
            "colorscale": [
             [
              0,
              "#0d0887"
             ],
             [
              0.1111111111111111,
              "#46039f"
             ],
             [
              0.2222222222222222,
              "#7201a8"
             ],
             [
              0.3333333333333333,
              "#9c179e"
             ],
             [
              0.4444444444444444,
              "#bd3786"
             ],
             [
              0.5555555555555556,
              "#d8576b"
             ],
             [
              0.6666666666666666,
              "#ed7953"
             ],
             [
              0.7777777777777778,
              "#fb9f3a"
             ],
             [
              0.8888888888888888,
              "#fdca26"
             ],
             [
              1,
              "#f0f921"
             ]
            ],
            "type": "histogram2dcontour"
           }
          ],
          "mesh3d": [
           {
            "colorbar": {
             "outlinewidth": 0,
             "ticks": ""
            },
            "type": "mesh3d"
           }
          ],
          "parcoords": [
           {
            "line": {
             "colorbar": {
              "outlinewidth": 0,
              "ticks": ""
             }
            },
            "type": "parcoords"
           }
          ],
          "pie": [
           {
            "automargin": true,
            "type": "pie"
           }
          ],
          "scatter": [
           {
            "fillpattern": {
             "fillmode": "overlay",
             "size": 10,
             "solidity": 0.2
            },
            "type": "scatter"
           }
          ],
          "scatter3d": [
           {
            "line": {
             "colorbar": {
              "outlinewidth": 0,
              "ticks": ""
             }
            },
            "marker": {
             "colorbar": {
              "outlinewidth": 0,
              "ticks": ""
             }
            },
            "type": "scatter3d"
           }
          ],
          "scattercarpet": [
           {
            "marker": {
             "colorbar": {
              "outlinewidth": 0,
              "ticks": ""
             }
            },
            "type": "scattercarpet"
           }
          ],
          "scattergeo": [
           {
            "marker": {
             "colorbar": {
              "outlinewidth": 0,
              "ticks": ""
             }
            },
            "type": "scattergeo"
           }
          ],
          "scattergl": [
           {
            "marker": {
             "colorbar": {
              "outlinewidth": 0,
              "ticks": ""
             }
            },
            "type": "scattergl"
           }
          ],
          "scattermap": [
           {
            "marker": {
             "colorbar": {
              "outlinewidth": 0,
              "ticks": ""
             }
            },
            "type": "scattermap"
           }
          ],
          "scattermapbox": [
           {
            "marker": {
             "colorbar": {
              "outlinewidth": 0,
              "ticks": ""
             }
            },
            "type": "scattermapbox"
           }
          ],
          "scatterpolar": [
           {
            "marker": {
             "colorbar": {
              "outlinewidth": 0,
              "ticks": ""
             }
            },
            "type": "scatterpolar"
           }
          ],
          "scatterpolargl": [
           {
            "marker": {
             "colorbar": {
              "outlinewidth": 0,
              "ticks": ""
             }
            },
            "type": "scatterpolargl"
           }
          ],
          "scatterternary": [
           {
            "marker": {
             "colorbar": {
              "outlinewidth": 0,
              "ticks": ""
             }
            },
            "type": "scatterternary"
           }
          ],
          "surface": [
           {
            "colorbar": {
             "outlinewidth": 0,
             "ticks": ""
            },
            "colorscale": [
             [
              0,
              "#0d0887"
             ],
             [
              0.1111111111111111,
              "#46039f"
             ],
             [
              0.2222222222222222,
              "#7201a8"
             ],
             [
              0.3333333333333333,
              "#9c179e"
             ],
             [
              0.4444444444444444,
              "#bd3786"
             ],
             [
              0.5555555555555556,
              "#d8576b"
             ],
             [
              0.6666666666666666,
              "#ed7953"
             ],
             [
              0.7777777777777778,
              "#fb9f3a"
             ],
             [
              0.8888888888888888,
              "#fdca26"
             ],
             [
              1,
              "#f0f921"
             ]
            ],
            "type": "surface"
           }
          ],
          "table": [
           {
            "cells": {
             "fill": {
              "color": "#EBF0F8"
             },
             "line": {
              "color": "white"
             }
            },
            "header": {
             "fill": {
              "color": "#C8D4E3"
             },
             "line": {
              "color": "white"
             }
            },
            "type": "table"
           }
          ]
         },
         "layout": {
          "annotationdefaults": {
           "arrowcolor": "#2a3f5f",
           "arrowhead": 0,
           "arrowwidth": 1
          },
          "autotypenumbers": "strict",
          "coloraxis": {
           "colorbar": {
            "outlinewidth": 0,
            "ticks": ""
           }
          },
          "colorscale": {
           "diverging": [
            [
             0,
             "#8e0152"
            ],
            [
             0.1,
             "#c51b7d"
            ],
            [
             0.2,
             "#de77ae"
            ],
            [
             0.3,
             "#f1b6da"
            ],
            [
             0.4,
             "#fde0ef"
            ],
            [
             0.5,
             "#f7f7f7"
            ],
            [
             0.6,
             "#e6f5d0"
            ],
            [
             0.7,
             "#b8e186"
            ],
            [
             0.8,
             "#7fbc41"
            ],
            [
             0.9,
             "#4d9221"
            ],
            [
             1,
             "#276419"
            ]
           ],
           "sequential": [
            [
             0,
             "#0d0887"
            ],
            [
             0.1111111111111111,
             "#46039f"
            ],
            [
             0.2222222222222222,
             "#7201a8"
            ],
            [
             0.3333333333333333,
             "#9c179e"
            ],
            [
             0.4444444444444444,
             "#bd3786"
            ],
            [
             0.5555555555555556,
             "#d8576b"
            ],
            [
             0.6666666666666666,
             "#ed7953"
            ],
            [
             0.7777777777777778,
             "#fb9f3a"
            ],
            [
             0.8888888888888888,
             "#fdca26"
            ],
            [
             1,
             "#f0f921"
            ]
           ],
           "sequentialminus": [
            [
             0,
             "#0d0887"
            ],
            [
             0.1111111111111111,
             "#46039f"
            ],
            [
             0.2222222222222222,
             "#7201a8"
            ],
            [
             0.3333333333333333,
             "#9c179e"
            ],
            [
             0.4444444444444444,
             "#bd3786"
            ],
            [
             0.5555555555555556,
             "#d8576b"
            ],
            [
             0.6666666666666666,
             "#ed7953"
            ],
            [
             0.7777777777777778,
             "#fb9f3a"
            ],
            [
             0.8888888888888888,
             "#fdca26"
            ],
            [
             1,
             "#f0f921"
            ]
           ]
          },
          "colorway": [
           "#636efa",
           "#EF553B",
           "#00cc96",
           "#ab63fa",
           "#FFA15A",
           "#19d3f3",
           "#FF6692",
           "#B6E880",
           "#FF97FF",
           "#FECB52"
          ],
          "font": {
           "color": "#2a3f5f"
          },
          "geo": {
           "bgcolor": "white",
           "lakecolor": "white",
           "landcolor": "#E5ECF6",
           "showlakes": true,
           "showland": true,
           "subunitcolor": "white"
          },
          "hoverlabel": {
           "align": "left"
          },
          "hovermode": "closest",
          "mapbox": {
           "style": "light"
          },
          "paper_bgcolor": "white",
          "plot_bgcolor": "#E5ECF6",
          "polar": {
           "angularaxis": {
            "gridcolor": "white",
            "linecolor": "white",
            "ticks": ""
           },
           "bgcolor": "#E5ECF6",
           "radialaxis": {
            "gridcolor": "white",
            "linecolor": "white",
            "ticks": ""
           }
          },
          "scene": {
           "xaxis": {
            "backgroundcolor": "#E5ECF6",
            "gridcolor": "white",
            "gridwidth": 2,
            "linecolor": "white",
            "showbackground": true,
            "ticks": "",
            "zerolinecolor": "white"
           },
           "yaxis": {
            "backgroundcolor": "#E5ECF6",
            "gridcolor": "white",
            "gridwidth": 2,
            "linecolor": "white",
            "showbackground": true,
            "ticks": "",
            "zerolinecolor": "white"
           },
           "zaxis": {
            "backgroundcolor": "#E5ECF6",
            "gridcolor": "white",
            "gridwidth": 2,
            "linecolor": "white",
            "showbackground": true,
            "ticks": "",
            "zerolinecolor": "white"
           }
          },
          "shapedefaults": {
           "line": {
            "color": "#2a3f5f"
           }
          },
          "ternary": {
           "aaxis": {
            "gridcolor": "white",
            "linecolor": "white",
            "ticks": ""
           },
           "baxis": {
            "gridcolor": "white",
            "linecolor": "white",
            "ticks": ""
           },
           "bgcolor": "#E5ECF6",
           "caxis": {
            "gridcolor": "white",
            "linecolor": "white",
            "ticks": ""
           }
          },
          "title": {
           "x": 0.05
          },
          "xaxis": {
           "automargin": true,
           "gridcolor": "white",
           "linecolor": "white",
           "ticks": "",
           "title": {
            "standoff": 15
           },
           "zerolinecolor": "white",
           "zerolinewidth": 2
          },
          "yaxis": {
           "automargin": true,
           "gridcolor": "white",
           "linecolor": "white",
           "ticks": "",
           "title": {
            "standoff": 15
           },
           "zerolinecolor": "white",
           "zerolinewidth": 2
          }
         }
        },
        "title": {
         "text": "Anomalies in Temperature Readings"
        },
        "xaxis": {
         "anchor": "y",
         "domain": [
          0,
          1
         ],
         "title": {
          "text": "index"
         }
        },
        "yaxis": {
         "anchor": "x",
         "domain": [
          0,
          1
         ],
         "title": {
          "text": "Temperature"
         }
        }
       }
      }
     },
     "metadata": {},
     "output_type": "display_data"
    }
   ],
   "source": [
    "from sklearn.ensemble import IsolationForest\n",
    "\n",
    "# Detect anomalies using Isolation Forest\n",
    "model = IsolationForest(contamination=0.05, random_state=42)\n",
    "df[\"Anomaly\"] = model.fit_predict(df[[\"Temperature\", \"Vibration\", \"Power_Usage\", \"Humidity\"]])\n",
    "df[\"Anomaly\"] = df[\"Anomaly\"].map({1: \"Normal\", -1: \"Anomaly\"})\n",
    "\n",
    "# Display anomaly counts\n",
    "print(\"Anomaly Count:\\n\", df[\"Anomaly\"].value_counts())\n",
    "\n",
    "# Visualizing anomalies\n",
    "import plotly.express as px\n",
    "fig = px.scatter(df, x=df.index, y=\"Temperature\", color=\"Anomaly\", title=\"Anomalies in Temperature Readings\")\n",
    "fig.show()\n"
   ]
  },
  {
   "cell_type": "code",
   "execution_count": 26,
   "metadata": {},
   "outputs": [
    {
     "name": "stdout",
     "output_type": "stream",
     "text": [
      "📊 Select Data Type:\n"
     ]
    },
    {
     "data": {
      "application/vnd.jupyter.widget-view+json": {
       "model_id": "b199602e22304423b502ddc85612f7e7",
       "version_major": 2,
       "version_minor": 0
      },
      "text/plain": [
       "Dropdown(description='Data:', options=('Vibration', 'Power_Usage', 'Humidity', 'Failure_Risk', 'Machine_Type_D…"
      ]
     },
     "metadata": {},
     "output_type": "display_data"
    },
    {
     "name": "stdout",
     "output_type": "stream",
     "text": [
      "📊 Choose Chart Type:\n"
     ]
    },
    {
     "data": {
      "application/vnd.jupyter.widget-view+json": {
       "model_id": "2fe15437f3fb45689e1e35840651d4bc",
       "version_major": 2,
       "version_minor": 0
      },
      "text/plain": [
       "Dropdown(description='Chart:', options=('Line Chart', 'Bar Chart', 'Scatter Plot', 'Pie Chart'), value='Line C…"
      ]
     },
     "metadata": {},
     "output_type": "display_data"
    },
    {
     "name": "stdout",
     "output_type": "stream",
     "text": [
      "🔍 Select Anomaly Detection Method:\n"
     ]
    },
    {
     "data": {
      "application/vnd.jupyter.widget-view+json": {
       "model_id": "5aebb9e928d14945a17e3468c56f1bfc",
       "version_major": 2,
       "version_minor": 0
      },
      "text/plain": [
       "Dropdown(description='Model:', options=('Isolation Forest', 'Logistic Regression', 'Random Forest'), value='Is…"
      ]
     },
     "metadata": {},
     "output_type": "display_data"
    },
    {
     "name": "stdout",
     "output_type": "stream",
     "text": [
      "⚙ Select Machine Type for Anomalies:\n"
     ]
    },
    {
     "data": {
      "application/vnd.jupyter.widget-view+json": {
       "model_id": "0dfe99b336ca45c794172369a0aa676a",
       "version_major": 2,
       "version_minor": 0
      },
      "text/plain": [
       "Dropdown(description='Machine:', options=('Drill', 'Mill', 'Lathe'), value='Drill')"
      ]
     },
     "metadata": {},
     "output_type": "display_data"
    }
   ],
   "source": [
    "import ipywidgets as widgets\n",
    "from IPython.display import display\n",
    "\n",
    "# Sidebar Widgets for user input\n",
    "print(\"📊 Select Data Type:\")\n",
    "data_type_dropdown = widgets.Dropdown(\n",
    "    options=df.columns[1:],\n",
    "    description='Data:',\n",
    "    disabled=False,\n",
    ")\n",
    "display(data_type_dropdown)\n",
    "\n",
    "print(\"📊 Choose Chart Type:\")\n",
    "chart_type_dropdown = widgets.Dropdown(\n",
    "    options=[\"Line Chart\", \"Bar Chart\", \"Scatter Plot\", \"Pie Chart\"],\n",
    "    description='Chart:',\n",
    "    disabled=False,\n",
    ")\n",
    "display(chart_type_dropdown)\n",
    "\n",
    "print(\"🔍 Select Anomaly Detection Method:\")\n",
    "model_type_dropdown = widgets.Dropdown(\n",
    "    options=[\"Isolation Forest\", \"Logistic Regression\", \"Random Forest\"],\n",
    "    description='Model:',\n",
    "    disabled=False,\n",
    ")\n",
    "display(model_type_dropdown)\n",
    "\n",
    "print(\"⚙ Select Machine Type for Anomalies:\")\n",
    "machine_type_dropdown = widgets.Dropdown(\n",
    "    options=[\"Drill\", \"Mill\", \"Lathe\"],\n",
    "    description='Machine:',\n",
    "    disabled=False,\n",
    ")\n",
    "display(machine_type_dropdown)\n"
   ]
  },
  {
   "cell_type": "code",
   "execution_count": 27,
   "metadata": {},
   "outputs": [
    {
     "name": "stdout",
     "output_type": "stream",
     "text": [
      "✅ Data for Drill:\n"
     ]
    },
    {
     "data": {
      "text/html": [
       "<div>\n",
       "<style scoped>\n",
       "    .dataframe tbody tr th:only-of-type {\n",
       "        vertical-align: middle;\n",
       "    }\n",
       "\n",
       "    .dataframe tbody tr th {\n",
       "        vertical-align: top;\n",
       "    }\n",
       "\n",
       "    .dataframe thead th {\n",
       "        text-align: right;\n",
       "    }\n",
       "</style>\n",
       "<table border=\"1\" class=\"dataframe\">\n",
       "  <thead>\n",
       "    <tr style=\"text-align: right;\">\n",
       "      <th></th>\n",
       "      <th>Temperature</th>\n",
       "      <th>Vibration</th>\n",
       "      <th>Power_Usage</th>\n",
       "      <th>Humidity</th>\n",
       "      <th>Failure_Risk</th>\n",
       "      <th>Machine_Type_Drill</th>\n",
       "      <th>Machine_Type_Lathe</th>\n",
       "      <th>Machine_Type_Mill</th>\n",
       "      <th>Failure_Status</th>\n",
       "      <th>Anomaly</th>\n",
       "    </tr>\n",
       "  </thead>\n",
       "  <tbody>\n",
       "    <tr>\n",
       "      <th>2</th>\n",
       "      <td>0.548204</td>\n",
       "      <td>0.489121</td>\n",
       "      <td>0.320641</td>\n",
       "      <td>0.407586</td>\n",
       "      <td>1.0</td>\n",
       "      <td>True</td>\n",
       "      <td>False</td>\n",
       "      <td>False</td>\n",
       "      <td>Failure Risk</td>\n",
       "      <td>Normal</td>\n",
       "    </tr>\n",
       "    <tr>\n",
       "      <th>4</th>\n",
       "      <td>0.423895</td>\n",
       "      <td>0.593236</td>\n",
       "      <td>0.162099</td>\n",
       "      <td>0.564760</td>\n",
       "      <td>1.0</td>\n",
       "      <td>True</td>\n",
       "      <td>False</td>\n",
       "      <td>False</td>\n",
       "      <td>Failure Risk</td>\n",
       "      <td>Normal</td>\n",
       "    </tr>\n",
       "    <tr>\n",
       "      <th>5</th>\n",
       "      <td>0.423898</td>\n",
       "      <td>0.543552</td>\n",
       "      <td>0.465437</td>\n",
       "      <td>0.258235</td>\n",
       "      <td>0.0</td>\n",
       "      <td>True</td>\n",
       "      <td>False</td>\n",
       "      <td>False</td>\n",
       "      <td>No Failure</td>\n",
       "      <td>Normal</td>\n",
       "    </tr>\n",
       "    <tr>\n",
       "      <th>8</th>\n",
       "      <td>0.390724</td>\n",
       "      <td>0.650517</td>\n",
       "      <td>0.529642</td>\n",
       "      <td>0.649998</td>\n",
       "      <td>0.0</td>\n",
       "      <td>True</td>\n",
       "      <td>False</td>\n",
       "      <td>False</td>\n",
       "      <td>No Failure</td>\n",
       "      <td>Normal</td>\n",
       "    </tr>\n",
       "    <tr>\n",
       "      <th>11</th>\n",
       "      <td>0.391251</td>\n",
       "      <td>0.511615</td>\n",
       "      <td>0.324916</td>\n",
       "      <td>0.689383</td>\n",
       "      <td>0.0</td>\n",
       "      <td>True</td>\n",
       "      <td>False</td>\n",
       "      <td>False</td>\n",
       "      <td>No Failure</td>\n",
       "      <td>Normal</td>\n",
       "    </tr>\n",
       "  </tbody>\n",
       "</table>\n",
       "</div>"
      ],
      "text/plain": [
       "    Temperature  Vibration  Power_Usage  Humidity  Failure_Risk  \\\n",
       "2      0.548204   0.489121     0.320641  0.407586           1.0   \n",
       "4      0.423895   0.593236     0.162099  0.564760           1.0   \n",
       "5      0.423898   0.543552     0.465437  0.258235           0.0   \n",
       "8      0.390724   0.650517     0.529642  0.649998           0.0   \n",
       "11     0.391251   0.511615     0.324916  0.689383           0.0   \n",
       "\n",
       "    Machine_Type_Drill  Machine_Type_Lathe  Machine_Type_Mill Failure_Status  \\\n",
       "2                 True               False              False   Failure Risk   \n",
       "4                 True               False              False   Failure Risk   \n",
       "5                 True               False              False     No Failure   \n",
       "8                 True               False              False     No Failure   \n",
       "11                True               False              False     No Failure   \n",
       "\n",
       "   Anomaly  \n",
       "2   Normal  \n",
       "4   Normal  \n",
       "5   Normal  \n",
       "8   Normal  \n",
       "11  Normal  "
      ]
     },
     "metadata": {},
     "output_type": "display_data"
    }
   ],
   "source": [
    "# Filter dataset based on selected machine type\n",
    "selected_machine_type = machine_type_dropdown.value\n",
    "\n",
    "if f\"Machine_Type_{selected_machine_type}\" in df.columns:\n",
    "    filtered_df = df[df[f\"Machine_Type_{selected_machine_type}\"] == 1]\n",
    "else:\n",
    "    print(f\"⚠ No data available for {selected_machine_type}\")\n",
    "    filtered_df = pd.DataFrame()\n",
    "\n",
    "# Display filtered data\n",
    "print(f\"✅ Data for {selected_machine_type}:\")\n",
    "display(filtered_df.head())\n"
   ]
  },
  {
   "cell_type": "code",
   "execution_count": 28,
   "metadata": {},
   "outputs": [
    {
     "data": {
      "application/vnd.jupyter.widget-view+json": {
       "model_id": "9460cef8903b41b197ce9a8c16ca1e87",
       "version_major": 2,
       "version_minor": 0
      },
      "text/plain": [
       "Dropdown(description='Feature:', options=('Vibration', 'Power_Usage', 'Humidity', 'Failure_Risk', 'Machine_Typ…"
      ]
     },
     "metadata": {},
     "output_type": "display_data"
    }
   ],
   "source": [
    "import ipywidgets as widgets\n",
    "from IPython.display import display\n",
    "\n",
    "# Create a dropdown for feature selection\n",
    "feature_options = df.columns[1:]  # Exclude the index column\n",
    "selected_feature_dropdown = widgets.Dropdown(\n",
    "    options=feature_options,\n",
    "    description=\"Feature:\",\n",
    "    value=feature_options[0]  # Default to the first feature\n",
    ")\n",
    "\n",
    "# Display the dropdown\n",
    "display(selected_feature_dropdown)\n"
   ]
  },
  {
   "cell_type": "code",
   "execution_count": 29,
   "metadata": {},
   "outputs": [
    {
     "data": {
      "application/vnd.plotly.v1+json": {
       "config": {
        "plotlyServerURL": "https://plot.ly"
       },
       "data": [
        {
         "hovertemplate": "index=%{x}<br>Vibration=%{y}<extra></extra>",
         "legendgroup": "",
         "line": {
          "color": "#636efa",
          "dash": "solid"
         },
         "marker": {
          "symbol": "circle"
         },
         "mode": "lines",
         "name": "",
         "orientation": "v",
         "showlegend": false,
         "type": "scatter",
         "x": {
          "bdata": "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",
          "dtype": "i2"
         },
         "xaxis": "x",
         "y": {
          "bdata": "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",
          "dtype": "f8"
         },
         "yaxis": "y"
        }
       ],
       "layout": {
        "legend": {
         "tracegroupgap": 0
        },
        "template": {
         "data": {
          "bar": [
           {
            "error_x": {
             "color": "#2a3f5f"
            },
            "error_y": {
             "color": "#2a3f5f"
            },
            "marker": {
             "line": {
              "color": "#E5ECF6",
              "width": 0.5
             },
             "pattern": {
              "fillmode": "overlay",
              "size": 10,
              "solidity": 0.2
             }
            },
            "type": "bar"
           }
          ],
          "barpolar": [
           {
            "marker": {
             "line": {
              "color": "#E5ECF6",
              "width": 0.5
             },
             "pattern": {
              "fillmode": "overlay",
              "size": 10,
              "solidity": 0.2
             }
            },
            "type": "barpolar"
           }
          ],
          "carpet": [
           {
            "aaxis": {
             "endlinecolor": "#2a3f5f",
             "gridcolor": "white",
             "linecolor": "white",
             "minorgridcolor": "white",
             "startlinecolor": "#2a3f5f"
            },
            "baxis": {
             "endlinecolor": "#2a3f5f",
             "gridcolor": "white",
             "linecolor": "white",
             "minorgridcolor": "white",
             "startlinecolor": "#2a3f5f"
            },
            "type": "carpet"
           }
          ],
          "choropleth": [
           {
            "colorbar": {
             "outlinewidth": 0,
             "ticks": ""
            },
            "type": "choropleth"
           }
          ],
          "contour": [
           {
            "colorbar": {
             "outlinewidth": 0,
             "ticks": ""
            },
            "colorscale": [
             [
              0,
              "#0d0887"
             ],
             [
              0.1111111111111111,
              "#46039f"
             ],
             [
              0.2222222222222222,
              "#7201a8"
             ],
             [
              0.3333333333333333,
              "#9c179e"
             ],
             [
              0.4444444444444444,
              "#bd3786"
             ],
             [
              0.5555555555555556,
              "#d8576b"
             ],
             [
              0.6666666666666666,
              "#ed7953"
             ],
             [
              0.7777777777777778,
              "#fb9f3a"
             ],
             [
              0.8888888888888888,
              "#fdca26"
             ],
             [
              1,
              "#f0f921"
             ]
            ],
            "type": "contour"
           }
          ],
          "contourcarpet": [
           {
            "colorbar": {
             "outlinewidth": 0,
             "ticks": ""
            },
            "type": "contourcarpet"
           }
          ],
          "heatmap": [
           {
            "colorbar": {
             "outlinewidth": 0,
             "ticks": ""
            },
            "colorscale": [
             [
              0,
              "#0d0887"
             ],
             [
              0.1111111111111111,
              "#46039f"
             ],
             [
              0.2222222222222222,
              "#7201a8"
             ],
             [
              0.3333333333333333,
              "#9c179e"
             ],
             [
              0.4444444444444444,
              "#bd3786"
             ],
             [
              0.5555555555555556,
              "#d8576b"
             ],
             [
              0.6666666666666666,
              "#ed7953"
             ],
             [
              0.7777777777777778,
              "#fb9f3a"
             ],
             [
              0.8888888888888888,
              "#fdca26"
             ],
             [
              1,
              "#f0f921"
             ]
            ],
            "type": "heatmap"
           }
          ],
          "histogram": [
           {
            "marker": {
             "pattern": {
              "fillmode": "overlay",
              "size": 10,
              "solidity": 0.2
             }
            },
            "type": "histogram"
           }
          ],
          "histogram2d": [
           {
            "colorbar": {
             "outlinewidth": 0,
             "ticks": ""
            },
            "colorscale": [
             [
              0,
              "#0d0887"
             ],
             [
              0.1111111111111111,
              "#46039f"
             ],
             [
              0.2222222222222222,
              "#7201a8"
             ],
             [
              0.3333333333333333,
              "#9c179e"
             ],
             [
              0.4444444444444444,
              "#bd3786"
             ],
             [
              0.5555555555555556,
              "#d8576b"
             ],
             [
              0.6666666666666666,
              "#ed7953"
             ],
             [
              0.7777777777777778,
              "#fb9f3a"
             ],
             [
              0.8888888888888888,
              "#fdca26"
             ],
             [
              1,
              "#f0f921"
             ]
            ],
            "type": "histogram2d"
           }
          ],
          "histogram2dcontour": [
           {
            "colorbar": {
             "outlinewidth": 0,
             "ticks": ""
            },
            "colorscale": [
             [
              0,
              "#0d0887"
             ],
             [
              0.1111111111111111,
              "#46039f"
             ],
             [
              0.2222222222222222,
              "#7201a8"
             ],
             [
              0.3333333333333333,
              "#9c179e"
             ],
             [
              0.4444444444444444,
              "#bd3786"
             ],
             [
              0.5555555555555556,
              "#d8576b"
             ],
             [
              0.6666666666666666,
              "#ed7953"
             ],
             [
              0.7777777777777778,
              "#fb9f3a"
             ],
             [
              0.8888888888888888,
              "#fdca26"
             ],
             [
              1,
              "#f0f921"
             ]
            ],
            "type": "histogram2dcontour"
           }
          ],
          "mesh3d": [
           {
            "colorbar": {
             "outlinewidth": 0,
             "ticks": ""
            },
            "type": "mesh3d"
           }
          ],
          "parcoords": [
           {
            "line": {
             "colorbar": {
              "outlinewidth": 0,
              "ticks": ""
             }
            },
            "type": "parcoords"
           }
          ],
          "pie": [
           {
            "automargin": true,
            "type": "pie"
           }
          ],
          "scatter": [
           {
            "fillpattern": {
             "fillmode": "overlay",
             "size": 10,
             "solidity": 0.2
            },
            "type": "scatter"
           }
          ],
          "scatter3d": [
           {
            "line": {
             "colorbar": {
              "outlinewidth": 0,
              "ticks": ""
             }
            },
            "marker": {
             "colorbar": {
              "outlinewidth": 0,
              "ticks": ""
             }
            },
            "type": "scatter3d"
           }
          ],
          "scattercarpet": [
           {
            "marker": {
             "colorbar": {
              "outlinewidth": 0,
              "ticks": ""
             }
            },
            "type": "scattercarpet"
           }
          ],
          "scattergeo": [
           {
            "marker": {
             "colorbar": {
              "outlinewidth": 0,
              "ticks": ""
             }
            },
            "type": "scattergeo"
           }
          ],
          "scattergl": [
           {
            "marker": {
             "colorbar": {
              "outlinewidth": 0,
              "ticks": ""
             }
            },
            "type": "scattergl"
           }
          ],
          "scattermap": [
           {
            "marker": {
             "colorbar": {
              "outlinewidth": 0,
              "ticks": ""
             }
            },
            "type": "scattermap"
           }
          ],
          "scattermapbox": [
           {
            "marker": {
             "colorbar": {
              "outlinewidth": 0,
              "ticks": ""
             }
            },
            "type": "scattermapbox"
           }
          ],
          "scatterpolar": [
           {
            "marker": {
             "colorbar": {
              "outlinewidth": 0,
              "ticks": ""
             }
            },
            "type": "scatterpolar"
           }
          ],
          "scatterpolargl": [
           {
            "marker": {
             "colorbar": {
              "outlinewidth": 0,
              "ticks": ""
             }
            },
            "type": "scatterpolargl"
           }
          ],
          "scatterternary": [
           {
            "marker": {
             "colorbar": {
              "outlinewidth": 0,
              "ticks": ""
             }
            },
            "type": "scatterternary"
           }
          ],
          "surface": [
           {
            "colorbar": {
             "outlinewidth": 0,
             "ticks": ""
            },
            "colorscale": [
             [
              0,
              "#0d0887"
             ],
             [
              0.1111111111111111,
              "#46039f"
             ],
             [
              0.2222222222222222,
              "#7201a8"
             ],
             [
              0.3333333333333333,
              "#9c179e"
             ],
             [
              0.4444444444444444,
              "#bd3786"
             ],
             [
              0.5555555555555556,
              "#d8576b"
             ],
             [
              0.6666666666666666,
              "#ed7953"
             ],
             [
              0.7777777777777778,
              "#fb9f3a"
             ],
             [
              0.8888888888888888,
              "#fdca26"
             ],
             [
              1,
              "#f0f921"
             ]
            ],
            "type": "surface"
           }
          ],
          "table": [
           {
            "cells": {
             "fill": {
              "color": "#EBF0F8"
             },
             "line": {
              "color": "white"
             }
            },
            "header": {
             "fill": {
              "color": "#C8D4E3"
             },
             "line": {
              "color": "white"
             }
            },
            "type": "table"
           }
          ]
         },
         "layout": {
          "annotationdefaults": {
           "arrowcolor": "#2a3f5f",
           "arrowhead": 0,
           "arrowwidth": 1
          },
          "autotypenumbers": "strict",
          "coloraxis": {
           "colorbar": {
            "outlinewidth": 0,
            "ticks": ""
           }
          },
          "colorscale": {
           "diverging": [
            [
             0,
             "#8e0152"
            ],
            [
             0.1,
             "#c51b7d"
            ],
            [
             0.2,
             "#de77ae"
            ],
            [
             0.3,
             "#f1b6da"
            ],
            [
             0.4,
             "#fde0ef"
            ],
            [
             0.5,
             "#f7f7f7"
            ],
            [
             0.6,
             "#e6f5d0"
            ],
            [
             0.7,
             "#b8e186"
            ],
            [
             0.8,
             "#7fbc41"
            ],
            [
             0.9,
             "#4d9221"
            ],
            [
             1,
             "#276419"
            ]
           ],
           "sequential": [
            [
             0,
             "#0d0887"
            ],
            [
             0.1111111111111111,
             "#46039f"
            ],
            [
             0.2222222222222222,
             "#7201a8"
            ],
            [
             0.3333333333333333,
             "#9c179e"
            ],
            [
             0.4444444444444444,
             "#bd3786"
            ],
            [
             0.5555555555555556,
             "#d8576b"
            ],
            [
             0.6666666666666666,
             "#ed7953"
            ],
            [
             0.7777777777777778,
             "#fb9f3a"
            ],
            [
             0.8888888888888888,
             "#fdca26"
            ],
            [
             1,
             "#f0f921"
            ]
           ],
           "sequentialminus": [
            [
             0,
             "#0d0887"
            ],
            [
             0.1111111111111111,
             "#46039f"
            ],
            [
             0.2222222222222222,
             "#7201a8"
            ],
            [
             0.3333333333333333,
             "#9c179e"
            ],
            [
             0.4444444444444444,
             "#bd3786"
            ],
            [
             0.5555555555555556,
             "#d8576b"
            ],
            [
             0.6666666666666666,
             "#ed7953"
            ],
            [
             0.7777777777777778,
             "#fb9f3a"
            ],
            [
             0.8888888888888888,
             "#fdca26"
            ],
            [
             1,
             "#f0f921"
            ]
           ]
          },
          "colorway": [
           "#636efa",
           "#EF553B",
           "#00cc96",
           "#ab63fa",
           "#FFA15A",
           "#19d3f3",
           "#FF6692",
           "#B6E880",
           "#FF97FF",
           "#FECB52"
          ],
          "font": {
           "color": "#2a3f5f"
          },
          "geo": {
           "bgcolor": "white",
           "lakecolor": "white",
           "landcolor": "#E5ECF6",
           "showlakes": true,
           "showland": true,
           "subunitcolor": "white"
          },
          "hoverlabel": {
           "align": "left"
          },
          "hovermode": "closest",
          "mapbox": {
           "style": "light"
          },
          "paper_bgcolor": "white",
          "plot_bgcolor": "#E5ECF6",
          "polar": {
           "angularaxis": {
            "gridcolor": "white",
            "linecolor": "white",
            "ticks": ""
           },
           "bgcolor": "#E5ECF6",
           "radialaxis": {
            "gridcolor": "white",
            "linecolor": "white",
            "ticks": ""
           }
          },
          "scene": {
           "xaxis": {
            "backgroundcolor": "#E5ECF6",
            "gridcolor": "white",
            "gridwidth": 2,
            "linecolor": "white",
            "showbackground": true,
            "ticks": "",
            "zerolinecolor": "white"
           },
           "yaxis": {
            "backgroundcolor": "#E5ECF6",
            "gridcolor": "white",
            "gridwidth": 2,
            "linecolor": "white",
            "showbackground": true,
            "ticks": "",
            "zerolinecolor": "white"
           },
           "zaxis": {
            "backgroundcolor": "#E5ECF6",
            "gridcolor": "white",
            "gridwidth": 2,
            "linecolor": "white",
            "showbackground": true,
            "ticks": "",
            "zerolinecolor": "white"
           }
          },
          "shapedefaults": {
           "line": {
            "color": "#2a3f5f"
           }
          },
          "ternary": {
           "aaxis": {
            "gridcolor": "white",
            "linecolor": "white",
            "ticks": ""
           },
           "baxis": {
            "gridcolor": "white",
            "linecolor": "white",
            "ticks": ""
           },
           "bgcolor": "#E5ECF6",
           "caxis": {
            "gridcolor": "white",
            "linecolor": "white",
            "ticks": ""
           }
          },
          "title": {
           "x": 0.05
          },
          "xaxis": {
           "automargin": true,
           "gridcolor": "white",
           "linecolor": "white",
           "ticks": "",
           "title": {
            "standoff": 15
           },
           "zerolinecolor": "white",
           "zerolinewidth": 2
          },
          "yaxis": {
           "automargin": true,
           "gridcolor": "white",
           "linecolor": "white",
           "ticks": "",
           "title": {
            "standoff": 15
           },
           "zerolinecolor": "white",
           "zerolinewidth": 2
          }
         }
        },
        "title": {
         "text": "Vibration Over Time"
        },
        "xaxis": {
         "anchor": "y",
         "domain": [
          0,
          1
         ],
         "title": {
          "text": "index"
         }
        },
        "yaxis": {
         "anchor": "x",
         "domain": [
          0,
          1
         ],
         "title": {
          "text": "Vibration"
         }
        }
       }
      }
     },
     "metadata": {},
     "output_type": "display_data"
    }
   ],
   "source": [
    "# Plot time series of the selected feature\n",
    "fig = px.line(df, x=df.index, y=selected_feature_dropdown.value,\n",
    "              title=f\"{selected_feature_dropdown.value} Over Time\")\n",
    "\n",
    "fig.show()\n"
   ]
  }
 ],
 "metadata": {
  "kernelspec": {
   "display_name": "Python 3",
   "language": "python",
   "name": "python3"
  },
  "language_info": {
   "codemirror_mode": {
    "name": "ipython",
    "version": 3
   },
   "file_extension": ".py",
   "mimetype": "text/x-python",
   "name": "python",
   "nbconvert_exporter": "python",
   "pygments_lexer": "ipython3",
   "version": "3.11.1"
  }
 },
 "nbformat": 4,
 "nbformat_minor": 2
}
