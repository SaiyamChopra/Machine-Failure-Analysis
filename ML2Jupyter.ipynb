{
 "cells": [
  {
   "cell_type": "code",
   "execution_count": null,
   "metadata": {},
   "outputs": [],
   "source": [
    "import pandas as pd\n",
    "import numpy as np\n",
    "import matplotlib.pyplot as plt\n",
    "import seaborn as sns\n",
    "import plotly.express as px\n",
    "from sklearn.ensemble import IsolationForest\n",
    "from sklearn.preprocessing import MinMaxScaler\n",
    "\n",
    "\n"
   ]
  },
  {
   "cell_type": "code",
   "execution_count": 2,
   "metadata": {},
   "outputs": [
    {
     "name": "stdout",
     "output_type": "stream",
     "text": [
      "🔍 Data Preview:\n"
     ]
    },
    {
     "data": {
      "text/html": [
       "<div>\n",
       "<style scoped>\n",
       "    .dataframe tbody tr th:only-of-type {\n",
       "        vertical-align: middle;\n",
       "    }\n",
       "\n",
       "    .dataframe tbody tr th {\n",
       "        vertical-align: top;\n",
       "    }\n",
       "\n",
       "    .dataframe thead th {\n",
       "        text-align: right;\n",
       "    }\n",
       "</style>\n",
       "<table border=\"1\" class=\"dataframe\">\n",
       "  <thead>\n",
       "    <tr style=\"text-align: right;\">\n",
       "      <th></th>\n",
       "      <th>Temperature</th>\n",
       "      <th>Vibration</th>\n",
       "      <th>Power_Usage</th>\n",
       "      <th>Humidity</th>\n",
       "      <th>Machine_Type</th>\n",
       "      <th>Failure_Risk</th>\n",
       "    </tr>\n",
       "  </thead>\n",
       "  <tbody>\n",
       "    <tr>\n",
       "      <th>0</th>\n",
       "      <td>74.967142</td>\n",
       "      <td>56.996777</td>\n",
       "      <td>8.649643</td>\n",
       "      <td>20.460962</td>\n",
       "      <td>Mill</td>\n",
       "      <td>1</td>\n",
       "    </tr>\n",
       "    <tr>\n",
       "      <th>1</th>\n",
       "      <td>68.617357</td>\n",
       "      <td>54.623168</td>\n",
       "      <td>9.710963</td>\n",
       "      <td>25.698075</td>\n",
       "      <td>Lathe</td>\n",
       "      <td>0</td>\n",
       "    </tr>\n",
       "    <tr>\n",
       "      <th>2</th>\n",
       "      <td>76.476885</td>\n",
       "      <td>50.298152</td>\n",
       "      <td>8.415160</td>\n",
       "      <td>27.931972</td>\n",
       "      <td>Drill</td>\n",
       "      <td>1</td>\n",
       "    </tr>\n",
       "    <tr>\n",
       "      <th>3</th>\n",
       "      <td>85.230299</td>\n",
       "      <td>46.765316</td>\n",
       "      <td>9.384077</td>\n",
       "      <td>39.438438</td>\n",
       "      <td>Lathe</td>\n",
       "      <td>1</td>\n",
       "    </tr>\n",
       "    <tr>\n",
       "      <th>4</th>\n",
       "      <td>67.658466</td>\n",
       "      <td>53.491117</td>\n",
       "      <td>6.212771</td>\n",
       "      <td>32.782766</td>\n",
       "      <td>Drill</td>\n",
       "      <td>1</td>\n",
       "    </tr>\n",
       "  </tbody>\n",
       "</table>\n",
       "</div>"
      ],
      "text/plain": [
       "   Temperature  Vibration  Power_Usage   Humidity Machine_Type  Failure_Risk\n",
       "0    74.967142  56.996777     8.649643  20.460962         Mill             1\n",
       "1    68.617357  54.623168     9.710963  25.698075        Lathe             0\n",
       "2    76.476885  50.298152     8.415160  27.931972        Drill             1\n",
       "3    85.230299  46.765316     9.384077  39.438438        Lathe             1\n",
       "4    67.658466  53.491117     6.212771  32.782766        Drill             1"
      ]
     },
     "metadata": {},
     "output_type": "display_data"
    },
    {
     "name": "stdout",
     "output_type": "stream",
     "text": [
      "✅ Dataset Shape: (1000, 8)\n"
     ]
    }
   ],
   "source": [
    "# Load dataset\n",
    "DATA_PATH = \"machine_failure_dataset.csv\"\n",
    "\n",
    "# Function to load and preprocess data\n",
    "def load_and_preprocess_data():\n",
    "    df = pd.read_csv(DATA_PATH)\n",
    "\n",
    "    # Display first few rows\n",
    "    print(\"🔍 Data Preview:\")\n",
    "    display(df.head())\n",
    "\n",
    "    # Handle missing values\n",
    "    df.fillna(df.median(numeric_only=True), inplace=True)\n",
    "\n",
    "    # Normalize sensor readings\n",
    "    scaler = MinMaxScaler()\n",
    "    numeric_cols = df.select_dtypes(include=['number']).columns\n",
    "    df[numeric_cols] = scaler.fit_transform(df[numeric_cols])\n",
    "\n",
    "    # One-hot encode Machine Type\n",
    "    machine_types = [\"Drill\", \"Mill\", \"Lathe\"]\n",
    "    df = pd.get_dummies(df, columns=[\"Machine_Type\"], drop_first=False)\n",
    "\n",
    "    # Ensure all machine types exist after encoding\n",
    "    for m in machine_types:\n",
    "        col_name = f\"Machine_Type_{m}\"\n",
    "        if col_name not in df.columns:\n",
    "            df[col_name] = 0  # Add missing columns if not present\n",
    "    \n",
    "    return df\n",
    "\n",
    "# Load and preprocess data\n",
    "df = load_and_preprocess_data()\n",
    "\n",
    "# Display dataset shape\n",
    "print(f\"✅ Dataset Shape: {df.shape}\")\n"
   ]
  },
  {
   "cell_type": "code",
   "execution_count": 3,
   "metadata": {},
   "outputs": [
    {
     "name": "stdout",
     "output_type": "stream",
     "text": [
      "🔍 Data after Failure Risk Classification:\n"
     ]
    },
    {
     "data": {
      "text/html": [
       "<div>\n",
       "<style scoped>\n",
       "    .dataframe tbody tr th:only-of-type {\n",
       "        vertical-align: middle;\n",
       "    }\n",
       "\n",
       "    .dataframe tbody tr th {\n",
       "        vertical-align: top;\n",
       "    }\n",
       "\n",
       "    .dataframe thead th {\n",
       "        text-align: right;\n",
       "    }\n",
       "</style>\n",
       "<table border=\"1\" class=\"dataframe\">\n",
       "  <thead>\n",
       "    <tr style=\"text-align: right;\">\n",
       "      <th></th>\n",
       "      <th>Temperature</th>\n",
       "      <th>Vibration</th>\n",
       "      <th>Power_Usage</th>\n",
       "      <th>Humidity</th>\n",
       "      <th>Failure_Risk</th>\n",
       "      <th>Machine_Type_Drill</th>\n",
       "      <th>Machine_Type_Lathe</th>\n",
       "      <th>Machine_Type_Mill</th>\n",
       "      <th>Failure_Status</th>\n",
       "    </tr>\n",
       "  </thead>\n",
       "  <tbody>\n",
       "    <tr>\n",
       "      <th>0</th>\n",
       "      <td>0.526922</td>\n",
       "      <td>0.707548</td>\n",
       "      <td>0.337521</td>\n",
       "      <td>0.165514</td>\n",
       "      <td>1.0</td>\n",
       "      <td>False</td>\n",
       "      <td>False</td>\n",
       "      <td>True</td>\n",
       "      <td>Failure Risk</td>\n",
       "    </tr>\n",
       "    <tr>\n",
       "      <th>1</th>\n",
       "      <td>0.437412</td>\n",
       "      <td>0.630150</td>\n",
       "      <td>0.413921</td>\n",
       "      <td>0.335204</td>\n",
       "      <td>0.0</td>\n",
       "      <td>False</td>\n",
       "      <td>True</td>\n",
       "      <td>False</td>\n",
       "      <td>No Failure</td>\n",
       "    </tr>\n",
       "    <tr>\n",
       "      <th>2</th>\n",
       "      <td>0.548204</td>\n",
       "      <td>0.489121</td>\n",
       "      <td>0.320641</td>\n",
       "      <td>0.407586</td>\n",
       "      <td>1.0</td>\n",
       "      <td>True</td>\n",
       "      <td>False</td>\n",
       "      <td>False</td>\n",
       "      <td>Failure Risk</td>\n",
       "    </tr>\n",
       "    <tr>\n",
       "      <th>3</th>\n",
       "      <td>0.671595</td>\n",
       "      <td>0.373922</td>\n",
       "      <td>0.390390</td>\n",
       "      <td>0.780414</td>\n",
       "      <td>1.0</td>\n",
       "      <td>False</td>\n",
       "      <td>True</td>\n",
       "      <td>False</td>\n",
       "      <td>Failure Risk</td>\n",
       "    </tr>\n",
       "    <tr>\n",
       "      <th>4</th>\n",
       "      <td>0.423895</td>\n",
       "      <td>0.593236</td>\n",
       "      <td>0.162099</td>\n",
       "      <td>0.564760</td>\n",
       "      <td>1.0</td>\n",
       "      <td>True</td>\n",
       "      <td>False</td>\n",
       "      <td>False</td>\n",
       "      <td>Failure Risk</td>\n",
       "    </tr>\n",
       "  </tbody>\n",
       "</table>\n",
       "</div>"
      ],
      "text/plain": [
       "   Temperature  Vibration  Power_Usage  Humidity  Failure_Risk  \\\n",
       "0     0.526922   0.707548     0.337521  0.165514           1.0   \n",
       "1     0.437412   0.630150     0.413921  0.335204           0.0   \n",
       "2     0.548204   0.489121     0.320641  0.407586           1.0   \n",
       "3     0.671595   0.373922     0.390390  0.780414           1.0   \n",
       "4     0.423895   0.593236     0.162099  0.564760           1.0   \n",
       "\n",
       "   Machine_Type_Drill  Machine_Type_Lathe  Machine_Type_Mill Failure_Status  \n",
       "0               False               False               True   Failure Risk  \n",
       "1               False                True              False     No Failure  \n",
       "2                True               False              False   Failure Risk  \n",
       "3               False                True              False   Failure Risk  \n",
       "4                True               False              False   Failure Risk  "
      ]
     },
     "metadata": {},
     "output_type": "display_data"
    }
   ],
   "source": [
    "# Function to classify failure risk\n",
    "def classify_failure_risk(df):\n",
    "    df[\"Failure_Status\"] = df[\"Failure_Risk\"].map({0: \"No Failure\", 1: \"Failure Risk\"})\n",
    "    return df\n",
    "\n",
    "# Apply failure risk classification\n",
    "df = classify_failure_risk(df)\n",
    "\n",
    "# Display first few rows after classification\n",
    "print(\"🔍 Data after Failure Risk Classification:\")\n",
    "display(df.head())\n"
   ]
  },
  {
   "cell_type": "code",
   "execution_count": 4,
   "metadata": {},
   "outputs": [
    {
     "name": "stdout",
     "output_type": "stream",
     "text": [
      "🔍 Data after Anomaly Detection:\n"
     ]
    },
    {
     "data": {
      "text/html": [
       "<div>\n",
       "<style scoped>\n",
       "    .dataframe tbody tr th:only-of-type {\n",
       "        vertical-align: middle;\n",
       "    }\n",
       "\n",
       "    .dataframe tbody tr th {\n",
       "        vertical-align: top;\n",
       "    }\n",
       "\n",
       "    .dataframe thead th {\n",
       "        text-align: right;\n",
       "    }\n",
       "</style>\n",
       "<table border=\"1\" class=\"dataframe\">\n",
       "  <thead>\n",
       "    <tr style=\"text-align: right;\">\n",
       "      <th></th>\n",
       "      <th>Temperature</th>\n",
       "      <th>Vibration</th>\n",
       "      <th>Power_Usage</th>\n",
       "      <th>Humidity</th>\n",
       "      <th>Failure_Risk</th>\n",
       "      <th>Machine_Type_Drill</th>\n",
       "      <th>Machine_Type_Lathe</th>\n",
       "      <th>Machine_Type_Mill</th>\n",
       "      <th>Failure_Status</th>\n",
       "      <th>Anomaly</th>\n",
       "    </tr>\n",
       "  </thead>\n",
       "  <tbody>\n",
       "    <tr>\n",
       "      <th>0</th>\n",
       "      <td>0.526922</td>\n",
       "      <td>0.707548</td>\n",
       "      <td>0.337521</td>\n",
       "      <td>0.165514</td>\n",
       "      <td>1.0</td>\n",
       "      <td>False</td>\n",
       "      <td>False</td>\n",
       "      <td>True</td>\n",
       "      <td>Failure Risk</td>\n",
       "      <td>Normal</td>\n",
       "    </tr>\n",
       "    <tr>\n",
       "      <th>1</th>\n",
       "      <td>0.437412</td>\n",
       "      <td>0.630150</td>\n",
       "      <td>0.413921</td>\n",
       "      <td>0.335204</td>\n",
       "      <td>0.0</td>\n",
       "      <td>False</td>\n",
       "      <td>True</td>\n",
       "      <td>False</td>\n",
       "      <td>No Failure</td>\n",
       "      <td>Normal</td>\n",
       "    </tr>\n",
       "    <tr>\n",
       "      <th>2</th>\n",
       "      <td>0.548204</td>\n",
       "      <td>0.489121</td>\n",
       "      <td>0.320641</td>\n",
       "      <td>0.407586</td>\n",
       "      <td>1.0</td>\n",
       "      <td>True</td>\n",
       "      <td>False</td>\n",
       "      <td>False</td>\n",
       "      <td>Failure Risk</td>\n",
       "      <td>Normal</td>\n",
       "    </tr>\n",
       "    <tr>\n",
       "      <th>3</th>\n",
       "      <td>0.671595</td>\n",
       "      <td>0.373922</td>\n",
       "      <td>0.390390</td>\n",
       "      <td>0.780414</td>\n",
       "      <td>1.0</td>\n",
       "      <td>False</td>\n",
       "      <td>True</td>\n",
       "      <td>False</td>\n",
       "      <td>Failure Risk</td>\n",
       "      <td>Normal</td>\n",
       "    </tr>\n",
       "    <tr>\n",
       "      <th>4</th>\n",
       "      <td>0.423895</td>\n",
       "      <td>0.593236</td>\n",
       "      <td>0.162099</td>\n",
       "      <td>0.564760</td>\n",
       "      <td>1.0</td>\n",
       "      <td>True</td>\n",
       "      <td>False</td>\n",
       "      <td>False</td>\n",
       "      <td>Failure Risk</td>\n",
       "      <td>Normal</td>\n",
       "    </tr>\n",
       "  </tbody>\n",
       "</table>\n",
       "</div>"
      ],
      "text/plain": [
       "   Temperature  Vibration  Power_Usage  Humidity  Failure_Risk  \\\n",
       "0     0.526922   0.707548     0.337521  0.165514           1.0   \n",
       "1     0.437412   0.630150     0.413921  0.335204           0.0   \n",
       "2     0.548204   0.489121     0.320641  0.407586           1.0   \n",
       "3     0.671595   0.373922     0.390390  0.780414           1.0   \n",
       "4     0.423895   0.593236     0.162099  0.564760           1.0   \n",
       "\n",
       "   Machine_Type_Drill  Machine_Type_Lathe  Machine_Type_Mill Failure_Status  \\\n",
       "0               False               False               True   Failure Risk   \n",
       "1               False                True              False     No Failure   \n",
       "2                True               False              False   Failure Risk   \n",
       "3               False                True              False   Failure Risk   \n",
       "4                True               False              False   Failure Risk   \n",
       "\n",
       "  Anomaly  \n",
       "0  Normal  \n",
       "1  Normal  \n",
       "2  Normal  \n",
       "3  Normal  \n",
       "4  Normal  "
      ]
     },
     "metadata": {},
     "output_type": "display_data"
    }
   ],
   "source": [
    "from sklearn.ensemble import IsolationForest\n",
    "\n",
    "# Function to detect anomalies using Isolation Forest\n",
    "def detect_anomalies(df, feature_columns):\n",
    "    model = IsolationForest(contamination=0.05, random_state=42)\n",
    "    df[\"Anomaly\"] = model.fit_predict(df[feature_columns])\n",
    "    df[\"Anomaly\"] = df[\"Anomaly\"].map({1: \"Normal\", -1: \"Anomaly\"})\n",
    "    return df\n",
    "\n",
    "# Apply anomaly detection\n",
    "df = detect_anomalies(df, [\"Temperature\", \"Vibration\", \"Power_Usage\", \"Humidity\"])\n",
    "\n",
    "# Display the first few rows after anomaly detection\n",
    "print(\"🔍 Data after Anomaly Detection:\")\n",
    "display(df.head())\n"
   ]
  },
  {
   "cell_type": "code",
   "execution_count": 5,
   "metadata": {},
   "outputs": [
    {
     "name": "stderr",
     "output_type": "stream",
     "text": [
      "C:\\Users\\lenovo\\AppData\\Roaming\\Python\\Python311\\site-packages\\IPython\\core\\pylabtools.py:170: UserWarning: Glyph 128293 (\\N{FIRE}) missing from font(s) DejaVu Sans.\n",
      "  fig.canvas.print_figure(bytes_io, **kw)\n"
     ]
    },
    {
     "data": {
      "image/png": "[encoded data removed]",
      "text/plain": [
       "<Figure size 1000x600 with 2 Axes>"
      ]
     },
     "metadata": {},
     "output_type": "display_data"
    }
   ],
   "source": [
    "import seaborn as sns\n",
    "import matplotlib.pyplot as plt\n",
    "\n",
    "# Generate and display a correlation heatmap\n",
    "plt.figure(figsize=(10, 6))\n",
    "corr_matrix = df.select_dtypes(include=['number']).corr()\n",
    "sns.heatmap(corr_matrix, annot=True, cmap=\"coolwarm\", linewidths=0.5)\n",
    "plt.title(\"🔥 Correlation Heatmap of Sensor Data\")\n",
    "plt.show()\n"
   ]
  },
  {
   "cell_type": "code",
   "execution_count": 6,
   "metadata": {},
   "outputs": [
    {
     "name": "stdout",
     "output_type": "stream",
     "text": [
      "Anomaly Count:\n",
      " Anomaly\n",
      "Normal     950\n",
      "Anomaly     50\n",
      "Name: count, dtype: int64\n"
     ]
    },
    {
     "data": {
      "application/vnd.plotly.v1+json": {
       "config": {
        "plotlyServerURL": "https://plot.ly"
       },
       "data": [
        {
         "hovertemplate": "Anomaly=Normal<br>index=%{x}<br>Temperature=%{y}<extra></extra>",
         "legendgroup": "Normal",
         "marker": {
          "color": "#636efa",
          "symbol": "circle"
         },
         "mode": "markers",
         "name": "Normal",
         "orientation": "v",
         "showlegend": true,
         "type": "scatter",
         "x": {
          "bdata": "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",
          "dtype": "i2"
         },
         "xaxis": "x",
         "y": {
          "bdata": "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",
          "dtype": "f8"
         },
         "yaxis": "y"
        },
        {
         "hovertemplate": "Anomaly=Anomaly<br>index=%{x}<br>Temperature=%{y}<extra></extra>",
         "legendgroup": "Anomaly",
         "marker": {
          "color": "#EF553B",
          "symbol": "circle"
         },
         "mode": "markers",
         "name": "Anomaly",
         "orientation": "v",
         "showlegend": true,
         "type": "scatter",
         "x": {
          "bdata": "EQAYACMAQgBKAFMAZQBxAHYAoAClALMAwADRAOkA8QD8AAIBBgEjATEBWgF2AZUBxwHXAd4B4QHiAQcCCQITAiACLAIyAk8CXwJnAswC2QLoAu4C8wJwA38DmAOzA8sD0QPWAw==",
          "dtype": "i2"
         },
         "xaxis": "x",
         "y": {
          "bdata": "4Jg4T9UJ4D/2BZVbnFTYPz7ywAJJOtI/ehv5I5WX3D/YF1IYxG22P/4mJkvrkNg/nkXnsmNy2T9ylLNvcrvpP0hCtZqnxuM/dKlvfc9y1D88ixAlnnvgPx4NfRUk5Oo/7C+lIVss3z8AAAAAAADwPxbJaUj8XNc/Ng1/V+c03D/wOAZ2kTHoP6z4C9p1n+A/AAAAAAAAAADGfAatR8vYPxz341TeTN4/QPLMrnUt0D9CM7CMZVXoP0xZ6XQzbuE/oF2DYbUW1j+MgcnP8vLAP87MAaNfguw/TlgargSf1D9YrAFYbX/NP6jdoA6iAuI/YvYZbmgS4T9g+Xz/CIHMP4DbaR70xbs//sIKSL3X2D8i+WdJ54ziPzh6vXa37tg/JLVezUoD0j9ggoSAVmjePyQdtJ+1Rd4/fq8yulo41j9KQvuPuvTgP676izSi6dQ/rqW8KcR+6j8UOHTI/gTqPxY+vUMQjOE/CjZiG8F24z/ipMl45P/WP0oQhkr3GNc/WDZ/Izh/vT+6IKlbm4TUPw==",
          "dtype": "f8"
         },
         "yaxis": "y"
        }
       ],
       "layout": {
        "legend": {
         "title": {
          "text": "Anomaly"
         },
         "tracegroupgap": 0
        },
        "template": {
         "data": {
          "bar": [
           {
            "error_x": {
             "color": "#2a3f5f"
            },
            "error_y": {
             "color": "#2a3f5f"
            },
            "marker": {
             "line": {
              "color": "#E5ECF6",
              "width": 0.5
             },
             "pattern": {
              "fillmode": "overlay",
              "size": 10,
              "solidity": 0.2
             }
            },
            "type": "bar"
           }
          ],
          "barpolar": [
           {
            "marker": {
             "line": {
              "color": "#E5ECF6",
              "width": 0.5
             },
             "pattern": {
              "fillmode": "overlay",
              "size": 10,
              "solidity": 0.2
             }
            },
            "type": "barpolar"
           }
          ],
          "carpet": [
           {
            "aaxis": {
             "endlinecolor": "#2a3f5f",
             "gridcolor": "white",
             "linecolor": "white",
             "minorgridcolor": "white",
             "startlinecolor": "#2a3f5f"
            },
            "baxis": {
             "endlinecolor": "#2a3f5f",
             "gridcolor": "white",
             "linecolor": "white",
             "minorgridcolor": "white",
             "startlinecolor": "#2a3f5f"
            },
            "type": "carpet"
           }
          ],
          "choropleth": [
           {
            "colorbar": {
             "outlinewidth": 0,
             "ticks": ""
            },
            "type": "choropleth"
           }
          ],
          "contour": [
           {
            "colorbar": {
             "outlinewidth": 0,
             "ticks": ""
            },
            "colorscale": [
             [
              0,
              "#0d0887"
             ],
             [
              0.1111111111111111,
              "#46039f"
             ],
             [
              0.2222222222222222,
              "#7201a8"
             ],
             [
              0.3333333333333333,
              "#9c179e"
             ],
             [
              0.4444444444444444,
              "#bd3786"
             ],
             [
              0.5555555555555556,
              "#d8576b"
             ],
             [
              0.6666666666666666,
              "#ed7953"
             ],
             [
              0.7777777777777778,
              "#fb9f3a"
             ],
             [
              0.8888888888888888,
              "#fdca26"
             ],
             [
              1,
              "#f0f921"
             ]
            ],
            "type": "contour"
           }
          ],
          "contourcarpet": [
           {
            "colorbar": {
             "outlinewidth": 0,
             "ticks": ""
            },
            "type": "contourcarpet"
           }
          ],
          "heatmap": [
           {
            "colorbar": {
             "outlinewidth": 0,
             "ticks": ""
            },
            "colorscale": [
             [
              0,
              "#0d0887"
             ],
             [
              0.1111111111111111,
              "#46039f"
             ],
             [
              0.2222222222222222,
              "#7201a8"
             ],
             [
              0.3333333333333333,
              "#9c179e"
             ],
             [
              0.4444444444444444,
              "#bd3786"
             ],
             [
              0.5555555555555556,
              "#d8576b"
             ],
             [
              0.6666666666666666,
              "#ed7953"
             ],
             [
              0.7777777777777778,
              "#fb9f3a"
             ],
             [
              0.8888888888888888,
              "#fdca26"
             ],
             [
              1,
              "#f0f921"
             ]
            ],
            "type": "heatmap"
           }
          ],
          "histogram": [
           {
            "marker": {
             "pattern": {
              "fillmode": "overlay",
              "size": 10,
              "solidity": 0.2
             }
            },
            "type": "histogram"
           }
          ],
          "histogram2d": [
           {
            "colorbar": {
             "outlinewidth": 0,
             "ticks": ""
            },
            "colorscale": [
             [
              0,
              "#0d0887"
             ],
             [
              0.1111111111111111,
              "#46039f"
             ],
             [
              0.2222222222222222,
              "#7201a8"
             ],
             [
              0.3333333333333333,
              "#9c179e"
             ],
             [
              0.4444444444444444,
              "#bd3786"
             ],
             [
              0.5555555555555556,
              "#d8576b"
             ],
             [
              0.6666666666666666,
              "#ed7953"
             ],
             [
              0.7777777777777778,
              "#fb9f3a"
             ],
             [
              0.8888888888888888,
              "#fdca26"
             ],
             [
              1,
              "#f0f921"
             ]
            ],
            "type": "histogram2d"
           }
          ],
          "histogram2dcontour": [
           {
            "colorbar": {
             "outlinewidth": 0,
             "ticks": ""
            },
            "colorscale": [
             [
              0,
              "#0d0887"
             ],
             [
              0.1111111111111111,
              "#46039f"
             ],
             [
              0.2222222222222222,
              "#7201a8"
             ],
             [
              0.3333333333333333,
              "#9c179e"
             ],
             [
              0.4444444444444444,
              "#bd3786"
             ],
             [
              0.5555555555555556,
              "#d8576b"
             ],
             [
              0.6666666666666666,
              "#ed7953"
             ],
             [
              0.7777777777777778,
              "#fb9f3a"
             ],
             [
              0.8888888888888888,
              "#fdca26"
             ],
             [
              1,
              "#f0f921"
             ]
            ],
            "type": "histogram2dcontour"
           }
          ],
          "mesh3d": [
           {
            "colorbar": {
             "outlinewidth": 0,
             "ticks": ""
            },
            "type": "mesh3d"
           }
          ],
          "parcoords": [
           {
            "line": {
             "colorbar": {
              "outlinewidth": 0,
              "ticks": ""
             }
            },
            "type": "parcoords"
           }
          ],
          "pie": [
           {
            "automargin": true,
            "type": "pie"
           }
          ],
          "scatter": [
           {
            "fillpattern": {
             "fillmode": "overlay",
             "size": 10,
             "solidity": 0.2
            },
            "type": "scatter"
           }
          ],
          "scatter3d": [
           {
            "line": {
             "colorbar": {
              "outlinewidth": 0,
              "ticks": ""
             }
            },
            "marker": {
             "colorbar": {
              "outlinewidth": 0,
              "ticks": ""
             }
            },
            "type": "scatter3d"
           }
          ],
          "scattercarpet": [
           {
            "marker": {
             "colorbar": {
              "outlinewidth": 0,
              "ticks": ""
             }
            },
            "type": "scattercarpet"
           }
          ],
          "scattergeo": [
           {
            "marker": {
             "colorbar": {
              "outlinewidth": 0,
              "ticks": ""
             }
            },
            "type": "scattergeo"
           }
          ],
          "scattergl": [
           {
            "marker": {
             "colorbar": {
              "outlinewidth": 0,
              "ticks": ""
             }
            },
            "type": "scattergl"
           }
          ],
          "scattermap": [
           {
            "marker": {
             "colorbar": {
              "outlinewidth": 0,
              "ticks": ""
             }
            },
            "type": "scattermap"
           }
          ],
          "scattermapbox": [
           {
            "marker": {
             "colorbar": {
              "outlinewidth": 0,
              "ticks": ""
             }
            },
            "type": "scattermapbox"
           }
          ],
          "scatterpolar": [
           {
            "marker": {
             "colorbar": {
              "outlinewidth": 0,
              "ticks": ""
             }
            },
            "type": "scatterpolar"
           }
          ],
          "scatterpolargl": [
           {
            "marker": {
             "colorbar": {
              "outlinewidth": 0,
              "ticks": ""
             }
            },
            "type": "scatterpolargl"
           }
          ],
          "scatterternary": [
           {
            "marker": {
             "colorbar": {
              "outlinewidth": 0,
              "ticks": ""
             }
            },
            "type": "scatterternary"
           }
          ],
          "surface": [
           {
            "colorbar": {
             "outlinewidth": 0,
             "ticks": ""
            },
            "colorscale": [
             [
              0,
              "#0d0887"
             ],
             [
              0.1111111111111111,
              "#46039f"
             ],
             [
              0.2222222222222222,
              "#7201a8"
             ],
             [
              0.3333333333333333,
              "#9c179e"
             ],
             [
              0.4444444444444444,
              "#bd3786"
             ],
             [
              0.5555555555555556,
              "#d8576b"
             ],
             [
              0.6666666666666666,
              "#ed7953"
             ],
             [
              0.7777777777777778,
              "#fb9f3a"
             ],
             [
              0.8888888888888888,
              "#fdca26"
             ],
             [
              1,
              "#f0f921"
             ]
            ],
            "type": "surface"
           }
          ],
          "table": [
           {
            "cells": {
             "fill": {
              "color": "#EBF0F8"
             },
             "line": {
              "color": "white"
             }
            },
            "header": {
             "fill": {
              "color": "#C8D4E3"
             },
             "line": {
              "color": "white"
             }
            },
            "type": "table"
           }
          ]
         },
         "layout": {
          "annotationdefaults": {
           "arrowcolor": "#2a3f5f",
           "arrowhead": 0,
           "arrowwidth": 1
          },
          "autotypenumbers": "strict",
          "coloraxis": {
           "colorbar": {
            "outlinewidth": 0,
            "ticks": ""
           }
          },
          "colorscale": {
           "diverging": [
            [
             0,
             "#8e0152"
            ],
            [
             0.1,
             "#c51b7d"
            ],
            [
             0.2,
             "#de77ae"
            ],
            [
             0.3,
             "#f1b6da"
            ],
            [
             0.4,
             "#fde0ef"
            ],
            [
             0.5,
             "#f7f7f7"
            ],
            [
             0.6,
             "#e6f5d0"
            ],
            [
             0.7,
             "#b8e186"
            ],
            [
             0.8,
             "#7fbc41"
            ],
            [
             0.9,
             "#4d9221"
            ],
            [
             1,
             "#276419"
            ]
           ],
           "sequential": [
            [
             0,
             "#0d0887"
            ],
            [
             0.1111111111111111,
             "#46039f"
            ],
            [
             0.2222222222222222,
             "#7201a8"
            ],
            [
             0.3333333333333333,
             "#9c179e"
            ],
            [
             0.4444444444444444,
             "#bd3786"
            ],
            [
             0.5555555555555556,
             "#d8576b"
            ],
            [
             0.6666666666666666,
             "#ed7953"
            ],
            [
             0.7777777777777778,
             "#fb9f3a"
            ],
            [
             0.8888888888888888,
             "#fdca26"
            ],
            [
             1,
             "#f0f921"
            ]
           ],
           "sequentialminus": [
            [
             0,
             "#0d0887"
            ],
            [
             0.1111111111111111,
             "#46039f"
            ],
            [
             0.2222222222222222,
             "#7201a8"
            ],
            [
             0.3333333333333333,
             "#9c179e"
            ],
            [
             0.4444444444444444,
             "#bd3786"
            ],
            [
             0.5555555555555556,
             "#d8576b"
            ],
            [
             0.6666666666666666,
             "#ed7953"
            ],
            [
             0.7777777777777778,
             "#fb9f3a"
            ],
            [
             0.8888888888888888,
             "#fdca26"
            ],
            [
             1,
             "#f0f921"
            ]
           ]
          },
          "colorway": [
           "#636efa",
           "#EF553B",
           "#00cc96",
           "#ab63fa",
           "#FFA15A",
           "#19d3f3",
           "#FF6692",
           "#B6E880",
           "#FF97FF",
           "#FECB52"
          ],
          "font": {
           "color": "#2a3f5f"
          },
          "geo": {
           "bgcolor": "white",
           "lakecolor": "white",
           "landcolor": "#E5ECF6",
           "showlakes": true,
           "showland": true,
           "subunitcolor": "white"
          },
          "hoverlabel": {
           "align": "left"
          },
          "hovermode": "closest",
          "mapbox": {
           "style": "light"
          },
          "paper_bgcolor": "white",
          "plot_bgcolor": "#E5ECF6",
          "polar": {
           "angularaxis": {
            "gridcolor": "white",
            "linecolor": "white",
            "ticks": ""
           },
           "bgcolor": "#E5ECF6",
           "radialaxis": {
            "gridcolor": "white",
            "linecolor": "white",
            "ticks": ""
           }
          },
          "scene": {
           "xaxis": {
            "backgroundcolor": "#E5ECF6",
            "gridcolor": "white",
            "gridwidth": 2,
            "linecolor": "white",
            "showbackground": true,
            "ticks": "",
            "zerolinecolor": "white"
           },
           "yaxis": {
            "backgroundcolor": "#E5ECF6",
            "gridcolor": "white",
            "gridwidth": 2,
            "linecolor": "white",
            "showbackground": true,
            "ticks": "",
            "zerolinecolor": "white"
           },
           "zaxis": {
            "backgroundcolor": "#E5ECF6",
            "gridcolor": "white",
            "gridwidth": 2,
            "linecolor": "white",
            "showbackground": true,
            "ticks": "",
            "zerolinecolor": "white"
           }
          },
          "shapedefaults": {
           "line": {
            "color": "#2a3f5f"
           }
          },
          "ternary": {
           "aaxis": {
            "gridcolor": "white",
            "linecolor": "white",
            "ticks": ""
           },
           "baxis": {
            "gridcolor": "white",
            "linecolor": "white",
            "ticks": ""
           },
           "bgcolor": "#E5ECF6",
           "caxis": {
            "gridcolor": "white",
            "linecolor": "white",
            "ticks": ""
           }
          },
          "title": {
           "x": 0.05
          },
          "xaxis": {
           "automargin": true,
           "gridcolor": "white",
           "linecolor": "white",
           "ticks": "",
           "title": {
            "standoff": 15
           },
           "zerolinecolor": "white",
           "zerolinewidth": 2
          },
          "yaxis": {
           "automargin": true,
           "gridcolor": "white",
           "linecolor": "white",
           "ticks": "",
           "title": {
            "standoff": 15
           },
           "zerolinecolor": "white",
           "zerolinewidth": 2
          }
         }
        },
        "title": {
         "text": "Anomalies in Temperature Readings"
        },
        "xaxis": {
         "anchor": "y",
         "domain": [
          0,
          1
         ],
         "title": {
          "text": "index"
         }
        },
        "yaxis": {
         "anchor": "x",
         "domain": [
          0,
          1
         ],
         "title": {
          "text": "Temperature"
         }
        }
       }
      }
     },
     "metadata": {},
     "output_type": "display_data"
    }
   ],
   "source": [
    "from sklearn.ensemble import IsolationForest\n",
    "\n",
    "# Detect anomalies using Isolation Forest\n",
    "model = IsolationForest(contamination=0.05, random_state=42)\n",
    "df[\"Anomaly\"] = model.fit_predict(df[[\"Temperature\", \"Vibration\", \"Power_Usage\", \"Humidity\"]])\n",
    "df[\"Anomaly\"] = df[\"Anomaly\"].map({1: \"Normal\", -1: \"Anomaly\"})\n",
    "\n",
    "# Display anomaly counts\n",
    "print(\"Anomaly Count:\\n\", df[\"Anomaly\"].value_counts())\n",
    "\n",
    "# Visualizing anomalies\n",
    "import plotly.express as px\n",
    "fig = px.scatter(df, x=df.index, y=\"Temperature\", color=\"Anomaly\", title=\"Anomalies in Temperature Readings\")\n",
    "fig.show()\n"
   ]
  },
  {
   "cell_type": "code",
   "execution_count": 7,
   "metadata": {},
   "outputs": [
    {
     "name": "stdout",
     "output_type": "stream",
     "text": [
      "📊 Select Data Type:\n"
     ]
    },
    {
     "data": {
      "application/vnd.jupyter.widget-view+json": {
       "model_id": "2745bc3899544fa4a3f705f60b972f87",
       "version_major": 2,
       "version_minor": 0
      },
      "text/plain": [
       "Dropdown(description='Data:', options=('Vibration', 'Power_Usage', 'Humidity', 'Failure_Risk', 'Machine_Type_D…"
      ]
     },
     "metadata": {},
     "output_type": "display_data"
    },
    {
     "name": "stdout",
     "output_type": "stream",
     "text": [
      "📊 Choose Chart Type:\n"
     ]
    },
    {
     "data": {
      "application/vnd.jupyter.widget-view+json": {
       "model_id": "4e351302233142218b034fe3298a2e3d",
       "version_major": 2,
       "version_minor": 0
      },
      "text/plain": [
       "Dropdown(description='Chart:', options=('Line Chart', 'Bar Chart', 'Scatter Plot', 'Pie Chart'), value='Line C…"
      ]
     },
     "metadata": {},
     "output_type": "display_data"
    },
    {
     "name": "stdout",
     "output_type": "stream",
     "text": [
      "🔍 Select Anomaly Detection Method:\n"
     ]
    },
    {
     "data": {
      "application/vnd.jupyter.widget-view+json": {
       "model_id": "70b86dd3dca4480faaa70d59a1ab7f6a",
       "version_major": 2,
       "version_minor": 0
      },
      "text/plain": [
       "Dropdown(description='Model:', options=('Isolation Forest', 'Logistic Regression', 'Random Forest'), value='Is…"
      ]
     },
     "metadata": {},
     "output_type": "display_data"
    },
    {
     "name": "stdout",
     "output_type": "stream",
     "text": [
      "⚙ Select Machine Type for Anomalies:\n"
     ]
    },
    {
     "data": {
      "application/vnd.jupyter.widget-view+json": {
       "model_id": "854aa51595d44bd499caff6db8b135ca",
       "version_major": 2,
       "version_minor": 0
      },
      "text/plain": [
       "Dropdown(description='Machine:', options=('Drill', 'Mill', 'Lathe'), value='Drill')"
      ]
     },
     "metadata": {},
     "output_type": "display_data"
    }
   ],
   "source": [
    "import ipywidgets as widgets\n",
    "from IPython.display import display\n",
    "\n",
    "# Sidebar Widgets for user input\n",
    "print(\"📊 Select Data Type:\")\n",
    "data_type_dropdown = widgets.Dropdown(\n",
    "    options=df.columns[1:],\n",
    "    description='Data:',\n",
    "    disabled=False,\n",
    ")\n",
    "display(data_type_dropdown)\n",
    "\n",
    "print(\"📊 Choose Chart Type:\")\n",
    "chart_type_dropdown = widgets.Dropdown(\n",
    "    options=[\"Line Chart\", \"Bar Chart\", \"Scatter Plot\", \"Pie Chart\"],\n",
    "    description='Chart:',\n",
    "    disabled=False,\n",
    ")\n",
    "display(chart_type_dropdown)\n",
    "\n",
    "print(\"🔍 Select Anomaly Detection Method:\")\n",
    "model_type_dropdown = widgets.Dropdown(\n",
    "    options=[\"Isolation Forest\", \"Logistic Regression\", \"Random Forest\"],\n",
    "    description='Model:',\n",
    "    disabled=False,\n",
    ")\n",
    "display(model_type_dropdown)\n",
    "\n",
    "print(\"⚙ Select Machine Type for Anomalies:\")\n",
    "machine_type_dropdown = widgets.Dropdown(\n",
    "    options=[\"Drill\", \"Mill\", \"Lathe\"],\n",
    "    description='Machine:',\n",
    "    disabled=False,\n",
    ")\n",
    "display(machine_type_dropdown)\n"
   ]
  },
  {
   "cell_type": "code",
   "execution_count": 8,
   "metadata": {},
   "outputs": [
    {
     "name": "stdout",
     "output_type": "stream",
     "text": [
      "✅ Data for Mill:\n"
     ]
    },
    {
     "data": {
      "text/html": [
       "<div>\n",
       "<style scoped>\n",
       "    .dataframe tbody tr th:only-of-type {\n",
       "        vertical-align: middle;\n",
       "    }\n",
       "\n",
       "    .dataframe tbody tr th {\n",
       "        vertical-align: top;\n",
       "    }\n",
       "\n",
       "    .dataframe thead th {\n",
       "        text-align: right;\n",
       "    }\n",
       "</style>\n",
       "<table border=\"1\" class=\"dataframe\">\n",
       "  <thead>\n",
       "    <tr style=\"text-align: right;\">\n",
       "      <th></th>\n",
       "      <th>Temperature</th>\n",
       "      <th>Vibration</th>\n",
       "      <th>Power_Usage</th>\n",
       "      <th>Humidity</th>\n",
       "      <th>Failure_Risk</th>\n",
       "      <th>Machine_Type_Drill</th>\n",
       "      <th>Machine_Type_Lathe</th>\n",
       "      <th>Machine_Type_Mill</th>\n",
       "      <th>Failure_Status</th>\n",
       "      <th>Anomaly</th>\n",
       "    </tr>\n",
       "  </thead>\n",
       "  <tbody>\n",
       "    <tr>\n",
       "      <th>0</th>\n",
       "      <td>0.526922</td>\n",
       "      <td>0.707548</td>\n",
       "      <td>0.337521</td>\n",
       "      <td>0.165514</td>\n",
       "      <td>1.0</td>\n",
       "      <td>False</td>\n",
       "      <td>False</td>\n",
       "      <td>True</td>\n",
       "      <td>Failure Risk</td>\n",
       "      <td>Normal</td>\n",
       "    </tr>\n",
       "    <tr>\n",
       "      <th>7</th>\n",
       "      <td>0.565084</td>\n",
       "      <td>0.582956</td>\n",
       "      <td>0.317089</td>\n",
       "      <td>0.223918</td>\n",
       "      <td>1.0</td>\n",
       "      <td>False</td>\n",
       "      <td>False</td>\n",
       "      <td>True</td>\n",
       "      <td>Failure Risk</td>\n",
       "      <td>Normal</td>\n",
       "    </tr>\n",
       "    <tr>\n",
       "      <th>9</th>\n",
       "      <td>0.533384</td>\n",
       "      <td>0.392134</td>\n",
       "      <td>0.569713</td>\n",
       "      <td>0.398268</td>\n",
       "      <td>1.0</td>\n",
       "      <td>False</td>\n",
       "      <td>False</td>\n",
       "      <td>True</td>\n",
       "      <td>Failure Risk</td>\n",
       "      <td>Normal</td>\n",
       "    </tr>\n",
       "    <tr>\n",
       "      <th>13</th>\n",
       "      <td>0.187199</td>\n",
       "      <td>0.367034</td>\n",
       "      <td>0.299407</td>\n",
       "      <td>0.248250</td>\n",
       "      <td>1.0</td>\n",
       "      <td>False</td>\n",
       "      <td>False</td>\n",
       "      <td>True</td>\n",
       "      <td>Failure Risk</td>\n",
       "      <td>Normal</td>\n",
       "    </tr>\n",
       "    <tr>\n",
       "      <th>21</th>\n",
       "      <td>0.425076</td>\n",
       "      <td>0.385863</td>\n",
       "      <td>0.474663</td>\n",
       "      <td>0.399558</td>\n",
       "      <td>1.0</td>\n",
       "      <td>False</td>\n",
       "      <td>False</td>\n",
       "      <td>True</td>\n",
       "      <td>Failure Risk</td>\n",
       "      <td>Normal</td>\n",
       "    </tr>\n",
       "  </tbody>\n",
       "</table>\n",
       "</div>"
      ],
      "text/plain": [
       "    Temperature  Vibration  Power_Usage  Humidity  Failure_Risk  \\\n",
       "0      0.526922   0.707548     0.337521  0.165514           1.0   \n",
       "7      0.565084   0.582956     0.317089  0.223918           1.0   \n",
       "9      0.533384   0.392134     0.569713  0.398268           1.0   \n",
       "13     0.187199   0.367034     0.299407  0.248250           1.0   \n",
       "21     0.425076   0.385863     0.474663  0.399558           1.0   \n",
       "\n",
       "    Machine_Type_Drill  Machine_Type_Lathe  Machine_Type_Mill Failure_Status  \\\n",
       "0                False               False               True   Failure Risk   \n",
       "7                False               False               True   Failure Risk   \n",
       "9                False               False               True   Failure Risk   \n",
       "13               False               False               True   Failure Risk   \n",
       "21               False               False               True   Failure Risk   \n",
       "\n",
       "   Anomaly  \n",
       "0   Normal  \n",
       "7   Normal  \n",
       "9   Normal  \n",
       "13  Normal  \n",
       "21  Normal  "
      ]
     },
     "metadata": {},
     "output_type": "display_data"
    }
   ],
   "source": [
    "# Filter dataset based on selected machine type\n",
    "selected_machine_type = machine_type_dropdown.value\n",
    "\n",
    "if f\"Machine_Type_{selected_machine_type}\" in df.columns:\n",
    "    filtered_df = df[df[f\"Machine_Type_{selected_machine_type}\"] == 1]\n",
    "else:\n",
    "    print(f\"⚠ No data available for {selected_machine_type}\")\n",
    "    filtered_df = pd.DataFrame()\n",
    "\n",
    "# Display filtered data\n",
    "print(f\"✅ Data for {selected_machine_type}:\")\n",
    "display(filtered_df.head())\n"
   ]
  },
  {
   "cell_type": "code",
   "execution_count": 10,
   "metadata": {},
   "outputs": [
    {
     "data": {
      "application/vnd.jupyter.widget-view+json": {
       "model_id": "fe92eabbb7f640b2b725de5314891530",
       "version_major": 2,
       "version_minor": 0
      },
      "text/plain": [
       "Dropdown(description='Feature:', options=('Vibration', 'Power_Usage', 'Humidity', 'Failure_Risk', 'Machine_Typ…"
      ]
     },
     "metadata": {},
     "output_type": "display_data"
    }
   ],
   "source": [
    "import ipywidgets as widgets\n",
    "from IPython.display import display\n",
    "\n",
    "# Create a dropdown for feature selection\n",
    "feature_options = df.columns[1:]  # Exclude the index column\n",
    "selected_feature_dropdown = widgets.Dropdown(\n",
    "    options=feature_options,\n",
    "    description=\"Feature:\",\n",
    "    value=feature_options[0]  # Default to the first feature\n",
    ")\n",
    "\n",
    "# Display the dropdown\n",
    "display(selected_feature_dropdown)\n"
   ]
  },
  {
   "cell_type": "code",
   "execution_count": 12,
   "metadata": {},
   "outputs": [
    {
     "data": {
      "application/vnd.plotly.v1+json": {
       "config": {
        "plotlyServerURL": "https://plot.ly"
       },
       "data": [
        {
         "hovertemplate": "index=%{x}<br>Machine_Type_Lathe=%{y}<extra></extra>",
         "legendgroup": "",
         "line": {
          "color": "#636efa",
          "dash": "solid"
         },
         "marker": {
          "symbol": "circle"
         },
         "mode": "lines",
         "name": "",
         "orientation": "h",
         "showlegend": false,
         "type": "scatter",
         "x": {
          "bdata": "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",
          "dtype": "i2"
         },
         "xaxis": "x",
         "y": [
          false,
          true,
          false,
          true,
          false,
          false,
          true,
          false,
          false,
          false,
          true,
          false,
          true,
          false,
          true,
          true,
          false,
          true,
          true,
          true,
          false,
          false,
          false,
          true,
          false,
          true,
          false,
          false,
          false,
          false,
          false,
          false,
          true,
          true,
          false,
          false,
          false,
          true,
          false,
          false,
          true,
          false,
          true,
          true,
          true,
          true,
          false,
          true,
          false,
          true,
          false,
          false,
          false,
          true,
          true,
          true,
          false,
          false,
          false,
          false,
          true,
          false,
          true,
          false,
          true,
          false,
          true,
          false,
          false,
          true,
          false,
          true,
          false,
          false,
          true,
          false,
          false,
          true,
          true,
          true,
          false,
          false,
          false,
          false,
          true,
          false,
          true,
          true,
          false,
          true,
          false,
          true,
          false,
          false,
          true,
          true,
          false,
          false,
          false,
          true,
          true,
          false,
          true,
          false,
          false,
          false,
          false,
          false,
          false,
          true,
          false,
          false,
          false,
          true,
          true,
          false,
          true,
          false,
          false,
          false,
          false,
          false,
          false,
          true,
          false,
          false,
          true,
          false,
          false,
          false,
          false,
          false,
          false,
          false,
          false,
          false,
          false,
          false,
          false,
          false,
          true,
          false,
          false,
          false,
          false,
          true,
          false,
          true,
          false,
          false,
          false,
          false,
          true,
          true,
          false,
          false,
          true,
          true,
          true,
          false,
          false,
          true,
          false,
          true,
          true,
          false,
          true,
          true,
          false,
          false,
          false,
          false,
          false,
          false,
          true,
          false,
          false,
          false,
          true,
          false,
          false,
          false,
          false,
          true,
          false,
          true,
          true,
          false,
          true,
          false,
          false,
          true,
          false,
          false,
          false,
          false,
          false,
          true,
          false,
          false,
          true,
          false,
          false,
          false,
          true,
          false,
          true,
          false,
          false,
          false,
          false,
          true,
          false,
          true,
          false,
          true,
          true,
          false,
          false,
          true,
          false,
          false,
          false,
          false,
          true,
          true,
          true,
          false,
          true,
          false,
          true,
          true,
          false,
          true,
          false,
          false,
          false,
          false,
          false,
          true,
          false,
          false,
          true,
          false,
          false,
          false,
          false,
          false,
          false,
          true,
          false,
          false,
          true,
          false,
          false,
          false,
          false,
          false,
          true,
          true,
          false,
          true,
          false,
          true,
          true,
          false,
          true,
          false,
          false,
          false,
          false,
          false,
          false,
          true,
          false,
          true,
          false,
          false,
          false,
          false,
          false,
          false,
          false,
          true,
          false,
          false,
          false,
          true,
          false,
          true,
          true,
          true,
          false,
          false,
          false,
          false,
          false,
          false,
          true,
          true,
          false,
          false,
          true,
          true,
          false,
          false,
          false,
          false,
          true,
          true,
          true,
          true,
          false,
          false,
          false,
          false,
          false,
          false,
          true,
          false,
          true,
          false,
          false,
          false,
          false,
          false,
          true,
          false,
          true,
          false,
          false,
          true,
          false,
          false,
          false,
          true,
          false,
          false,
          true,
          false,
          true,
          false,
          false,
          false,
          true,
          true,
          false,
          true,
          false,
          false,
          false,
          true,
          false,
          false,
          false,
          true,
          false,
          true,
          true,
          false,
          false,
          false,
          true,
          false,
          true,
          false,
          false,
          false,
          false,
          false,
          false,
          false,
          true,
          false,
          false,
          false,
          false,
          false,
          false,
          false,
          true,
          false,
          false,
          false,
          true,
          false,
          false,
          false,
          true,
          false,
          false,
          false,
          false,
          false,
          false,
          false,
          false,
          true,
          false,
          false,
          false,
          true,
          false,
          true,
          true,
          false,
          false,
          false,
          false,
          false,
          true,
          false,
          true,
          false,
          false,
          false,
          false,
          true,
          false,
          true,
          false,
          false,
          false,
          false,
          false,
          true,
          false,
          false,
          true,
          false,
          false,
          false,
          true,
          false,
          true,
          true,
          false,
          false,
          true,
          false,
          true,
          false,
          false,
          false,
          false,
          false,
          false,
          false,
          false,
          false,
          false,
          true,
          false,
          false,
          false,
          false,
          false,
          false,
          false,
          false,
          true,
          false,
          false,
          false,
          true,
          false,
          true,
          true,
          true,
          false,
          true,
          false,
          false,
          false,
          false,
          true,
          true,
          false,
          true,
          true,
          false,
          true,
          true,
          false,
          false,
          false,
          false,
          false,
          true,
          false,
          false,
          false,
          true,
          false,
          true,
          true,
          false,
          false,
          true,
          false,
          true,
          true,
          false,
          false,
          false,
          true,
          false,
          false,
          false,
          false,
          false,
          false,
          false,
          true,
          false,
          true,
          true,
          true,
          false,
          true,
          true,
          true,
          false,
          true,
          true,
          false,
          false,
          true,
          false,
          false,
          false,
          false,
          false,
          false,
          false,
          true,
          true,
          true,
          true,
          false,
          true,
          false,
          true,
          true,
          false,
          true,
          true,
          true,
          false,
          true,
          false,
          false,
          true,
          true,
          true,
          false,
          false,
          false,
          false,
          false,
          false,
          false,
          true,
          true,
          false,
          false,
          true,
          false,
          false,
          true,
          false,
          false,
          false,
          false,
          false,
          true,
          false,
          false,
          false,
          false,
          false,
          true,
          false,
          false,
          false,
          false,
          true,
          true,
          false,
          false,
          true,
          false,
          false,
          false,
          false,
          false,
          true,
          false,
          false,
          true,
          false,
          false,
          true,
          true,
          false,
          false,
          false,
          false,
          false,
          true,
          false,
          false,
          false,
          false,
          false,
          false,
          false,
          false,
          false,
          true,
          false,
          false,
          true,
          false,
          false,
          false,
          false,
          true,
          false,
          true,
          false,
          false,
          true,
          true,
          true,
          false,
          false,
          false,
          false,
          false,
          false,
          true,
          true,
          false,
          false,
          false,
          true,
          true,
          false,
          false,
          false,
          false,
          false,
          false,
          true,
          false,
          false,
          false,
          true,
          true,
          true,
          true,
          true,
          false,
          false,
          false,
          false,
          false,
          false,
          false,
          true,
          true,
          false,
          false,
          false,
          true,
          true,
          true,
          false,
          false,
          true,
          false,
          false,
          true,
          false,
          true,
          false,
          true,
          false,
          false,
          true,
          true,
          false,
          true,
          true,
          true,
          false,
          false,
          false,
          false,
          false,
          false,
          false,
          false,
          false,
          false,
          true,
          true,
          false,
          false,
          true,
          false,
          true,
          false,
          false,
          false,
          true,
          false,
          false,
          true,
          false,
          false,
          true,
          false,
          false,
          false,
          false,
          true,
          false,
          true,
          false,
          false,
          true,
          false,
          false,
          false,
          false,
          true,
          true,
          false,
          false,
          false,
          false,
          false,
          false,
          true,
          true,
          true,
          false,
          false,
          false,
          true,
          false,
          false,
          false,
          false,
          false,
          false,
          false,
          false,
          false,
          false,
          true,
          false,
          false,
          false,
          true,
          true,
          true,
          false,
          true,
          false,
          false,
          true,
          true,
          true,
          false,
          false,
          true,
          true,
          true,
          false,
          false,
          false,
          true,
          false,
          false,
          true,
          false,
          true,
          true,
          false,
          false,
          false,
          true,
          true,
          false,
          true,
          false,
          true,
          false,
          false,
          false,
          false,
          false,
          false,
          false,
          false,
          false,
          false,
          false,
          true,
          true,
          false,
          true,
          true,
          true,
          true,
          false,
          true,
          true,
          false,
          false,
          false,
          false,
          false,
          true,
          false,
          false,
          true,
          false,
          false,
          true,
          true,
          false,
          true,
          false,
          false,
          false,
          false,
          true,
          true,
          true,
          false,
          true,
          false,
          true,
          false,
          true,
          false,
          false,
          false,
          false,
          true,
          true,
          false,
          true,
          false,
          false,
          false,
          false,
          false,
          false,
          false,
          false,
          true,
          false,
          false,
          false,
          false,
          false,
          false,
          false,
          true,
          false,
          true,
          false,
          false,
          true,
          true,
          true,
          false,
          false,
          false,
          false,
          false,
          false,
          true,
          true,
          false,
          true,
          false,
          false,
          true,
          false,
          true,
          true,
          false,
          true,
          true,
          true,
          true,
          false,
          true,
          true,
          false,
          false,
          false,
          false,
          false,
          false,
          false,
          false,
          false,
          true,
          false,
          false,
          false,
          true,
          false,
          false,
          true,
          false,
          true,
          false,
          false,
          false,
          true,
          false,
          false,
          false,
          false,
          true,
          false,
          false,
          false,
          true,
          false,
          false,
          false,
          true,
          false,
          false,
          false,
          false,
          false,
          true,
          false,
          true,
          true,
          false,
          false,
          true,
          true,
          false,
          false,
          false,
          false,
          false,
          false,
          false,
          true,
          false,
          false,
          false,
          true,
          false,
          false,
          false,
          true,
          false,
          false,
          false,
          false,
          true,
          true,
          false,
          false,
          false,
          true,
          false,
          false,
          false,
          false,
          true,
          false,
          false,
          false,
          false,
          false,
          true,
          true,
          false,
          true,
          true,
          true,
          false,
          false,
          false,
          false
         ],
         "yaxis": "y"
        }
       ],
       "layout": {
        "legend": {
         "tracegroupgap": 0
        },
        "template": {
         "data": {
          "bar": [
           {
            "error_x": {
             "color": "#2a3f5f"
            },
            "error_y": {
             "color": "#2a3f5f"
            },
            "marker": {
             "line": {
              "color": "#E5ECF6",
              "width": 0.5
             },
             "pattern": {
              "fillmode": "overlay",
              "size": 10,
              "solidity": 0.2
             }
            },
            "type": "bar"
           }
          ],
          "barpolar": [
           {
            "marker": {
             "line": {
              "color": "#E5ECF6",
              "width": 0.5
             },
             "pattern": {
              "fillmode": "overlay",
              "size": 10,
              "solidity": 0.2
             }
            },
            "type": "barpolar"
           }
          ],
          "carpet": [
           {
            "aaxis": {
             "endlinecolor": "#2a3f5f",
             "gridcolor": "white",
             "linecolor": "white",
             "minorgridcolor": "white",
             "startlinecolor": "#2a3f5f"
            },
            "baxis": {
             "endlinecolor": "#2a3f5f",
             "gridcolor": "white",
             "linecolor": "white",
             "minorgridcolor": "white",
             "startlinecolor": "#2a3f5f"
            },
            "type": "carpet"
           }
          ],
          "choropleth": [
           {
            "colorbar": {
             "outlinewidth": 0,
             "ticks": ""
            },
            "type": "choropleth"
           }
          ],
          "contour": [
           {
            "colorbar": {
             "outlinewidth": 0,
             "ticks": ""
            },
            "colorscale": [
             [
              0,
              "#0d0887"
             ],
             [
              0.1111111111111111,
              "#46039f"
             ],
             [
              0.2222222222222222,
              "#7201a8"
             ],
             [
              0.3333333333333333,
              "#9c179e"
             ],
             [
              0.4444444444444444,
              "#bd3786"
             ],
             [
              0.5555555555555556,
              "#d8576b"
             ],
             [
              0.6666666666666666,
              "#ed7953"
             ],
             [
              0.7777777777777778,
              "#fb9f3a"
             ],
             [
              0.8888888888888888,
              "#fdca26"
             ],
             [
              1,
              "#f0f921"
             ]
            ],
            "type": "contour"
           }
          ],
          "contourcarpet": [
           {
            "colorbar": {
             "outlinewidth": 0,
             "ticks": ""
            },
            "type": "contourcarpet"
           }
          ],
          "heatmap": [
           {
            "colorbar": {
             "outlinewidth": 0,
             "ticks": ""
            },
            "colorscale": [
             [
              0,
              "#0d0887"
             ],
             [
              0.1111111111111111,
              "#46039f"
             ],
             [
              0.2222222222222222,
              "#7201a8"
             ],
             [
              0.3333333333333333,
              "#9c179e"
             ],
             [
              0.4444444444444444,
              "#bd3786"
             ],
             [
              0.5555555555555556,
              "#d8576b"
             ],
             [
              0.6666666666666666,
              "#ed7953"
             ],
             [
              0.7777777777777778,
              "#fb9f3a"
             ],
             [
              0.8888888888888888,
              "#fdca26"
             ],
             [
              1,
              "#f0f921"
             ]
            ],
            "type": "heatmap"
           }
          ],
          "histogram": [
           {
            "marker": {
             "pattern": {
              "fillmode": "overlay",
              "size": 10,
              "solidity": 0.2
             }
            },
            "type": "histogram"
           }
          ],
          "histogram2d": [
           {
            "colorbar": {
             "outlinewidth": 0,
             "ticks": ""
            },
            "colorscale": [
             [
              0,
              "#0d0887"
             ],
             [
              0.1111111111111111,
              "#46039f"
             ],
             [
              0.2222222222222222,
              "#7201a8"
             ],
             [
              0.3333333333333333,
              "#9c179e"
             ],
             [
              0.4444444444444444,
              "#bd3786"
             ],
             [
              0.5555555555555556,
              "#d8576b"
             ],
             [
              0.6666666666666666,
              "#ed7953"
             ],
             [
              0.7777777777777778,
              "#fb9f3a"
             ],
             [
              0.8888888888888888,
              "#fdca26"
             ],
             [
              1,
              "#f0f921"
             ]
            ],
            "type": "histogram2d"
           }
          ],
          "histogram2dcontour": [
           {
            "colorbar": {
             "outlinewidth": 0,
             "ticks": ""
            },
            "colorscale": [
             [
              0,
              "#0d0887"
             ],
             [
              0.1111111111111111,
              "#46039f"
             ],
             [
              0.2222222222222222,
              "#7201a8"
             ],
             [
              0.3333333333333333,
              "#9c179e"
             ],
             [
              0.4444444444444444,
              "#bd3786"
             ],
             [
              0.5555555555555556,
              "#d8576b"
             ],
             [
              0.6666666666666666,
              "#ed7953"
             ],
             [
              0.7777777777777778,
              "#fb9f3a"
             ],
             [
              0.8888888888888888,
              "#fdca26"
             ],
             [
              1,
              "#f0f921"
             ]
            ],
            "type": "histogram2dcontour"
           }
          ],
          "mesh3d": [
           {
            "colorbar": {
             "outlinewidth": 0,
             "ticks": ""
            },
            "type": "mesh3d"
           }
          ],
          "parcoords": [
           {
            "line": {
             "colorbar": {
              "outlinewidth": 0,
              "ticks": ""
             }
            },
            "type": "parcoords"
           }
          ],
          "pie": [
           {
            "automargin": true,
            "type": "pie"
           }
          ],
          "scatter": [
           {
            "fillpattern": {
             "fillmode": "overlay",
             "size": 10,
             "solidity": 0.2
            },
            "type": "scatter"
           }
          ],
          "scatter3d": [
           {
            "line": {
             "colorbar": {
              "outlinewidth": 0,
              "ticks": ""
             }
            },
            "marker": {
             "colorbar": {
              "outlinewidth": 0,
              "ticks": ""
             }
            },
            "type": "scatter3d"
           }
          ],
          "scattercarpet": [
           {
            "marker": {
             "colorbar": {
              "outlinewidth": 0,
              "ticks": ""
             }
            },
            "type": "scattercarpet"
           }
          ],
          "scattergeo": [
           {
            "marker": {
             "colorbar": {
              "outlinewidth": 0,
              "ticks": ""
             }
            },
            "type": "scattergeo"
           }
          ],
          "scattergl": [
           {
            "marker": {
             "colorbar": {
              "outlinewidth": 0,
              "ticks": ""
             }
            },
            "type": "scattergl"
           }
          ],
          "scattermap": [
           {
            "marker": {
             "colorbar": {
              "outlinewidth": 0,
              "ticks": ""
             }
            },
            "type": "scattermap"
           }
          ],
          "scattermapbox": [
           {
            "marker": {
             "colorbar": {
              "outlinewidth": 0,
              "ticks": ""
             }
            },
            "type": "scattermapbox"
           }
          ],
          "scatterpolar": [
           {
            "marker": {
             "colorbar": {
              "outlinewidth": 0,
              "ticks": ""
             }
            },
            "type": "scatterpolar"
           }
          ],
          "scatterpolargl": [
           {
            "marker": {
             "colorbar": {
              "outlinewidth": 0,
              "ticks": ""
             }
            },
            "type": "scatterpolargl"
           }
          ],
          "scatterternary": [
           {
            "marker": {
             "colorbar": {
              "outlinewidth": 0,
              "ticks": ""
             }
            },
            "type": "scatterternary"
           }
          ],
          "surface": [
           {
            "colorbar": {
             "outlinewidth": 0,
             "ticks": ""
            },
            "colorscale": [
             [
              0,
              "#0d0887"
             ],
             [
              0.1111111111111111,
              "#46039f"
             ],
             [
              0.2222222222222222,
              "#7201a8"
             ],
             [
              0.3333333333333333,
              "#9c179e"
             ],
             [
              0.4444444444444444,
              "#bd3786"
             ],
             [
              0.5555555555555556,
              "#d8576b"
             ],
             [
              0.6666666666666666,
              "#ed7953"
             ],
             [
              0.7777777777777778,
              "#fb9f3a"
             ],
             [
              0.8888888888888888,
              "#fdca26"
             ],
             [
              1,
              "#f0f921"
             ]
            ],
            "type": "surface"
           }
          ],
          "table": [
           {
            "cells": {
             "fill": {
              "color": "#EBF0F8"
             },
             "line": {
              "color": "white"
             }
            },
            "header": {
             "fill": {
              "color": "#C8D4E3"
             },
             "line": {
              "color": "white"
             }
            },
            "type": "table"
           }
          ]
         },
         "layout": {
          "annotationdefaults": {
           "arrowcolor": "#2a3f5f",
           "arrowhead": 0,
           "arrowwidth": 1
          },
          "autotypenumbers": "strict",
          "coloraxis": {
           "colorbar": {
            "outlinewidth": 0,
            "ticks": ""
           }
          },
          "colorscale": {
           "diverging": [
            [
             0,
             "#8e0152"
            ],
            [
             0.1,
             "#c51b7d"
            ],
            [
             0.2,
             "#de77ae"
            ],
            [
             0.3,
             "#f1b6da"
            ],
            [
             0.4,
             "#fde0ef"
            ],
            [
             0.5,
             "#f7f7f7"
            ],
            [
             0.6,
             "#e6f5d0"
            ],
            [
             0.7,
             "#b8e186"
            ],
            [
             0.8,
             "#7fbc41"
            ],
            [
             0.9,
             "#4d9221"
            ],
            [
             1,
             "#276419"
            ]
           ],
           "sequential": [
            [
             0,
             "#0d0887"
            ],
            [
             0.1111111111111111,
             "#46039f"
            ],
            [
             0.2222222222222222,
             "#7201a8"
            ],
            [
             0.3333333333333333,
             "#9c179e"
            ],
            [
             0.4444444444444444,
             "#bd3786"
            ],
            [
             0.5555555555555556,
             "#d8576b"
            ],
            [
             0.6666666666666666,
             "#ed7953"
            ],
            [
             0.7777777777777778,
             "#fb9f3a"
            ],
            [
             0.8888888888888888,
             "#fdca26"
            ],
            [
             1,
             "#f0f921"
            ]
           ],
           "sequentialminus": [
            [
             0,
             "#0d0887"
            ],
            [
             0.1111111111111111,
             "#46039f"
            ],
            [
             0.2222222222222222,
             "#7201a8"
            ],
            [
             0.3333333333333333,
             "#9c179e"
            ],
            [
             0.4444444444444444,
             "#bd3786"
            ],
            [
             0.5555555555555556,
             "#d8576b"
            ],
            [
             0.6666666666666666,
             "#ed7953"
            ],
            [
             0.7777777777777778,
             "#fb9f3a"
            ],
            [
             0.8888888888888888,
             "#fdca26"
            ],
            [
             1,
             "#f0f921"
            ]
           ]
          },
          "colorway": [
           "#636efa",
           "#EF553B",
           "#00cc96",
           "#ab63fa",
           "#FFA15A",
           "#19d3f3",
           "#FF6692",
           "#B6E880",
           "#FF97FF",
           "#FECB52"
          ],
          "font": {
           "color": "#2a3f5f"
          },
          "geo": {
           "bgcolor": "white",
           "lakecolor": "white",
           "landcolor": "#E5ECF6",
           "showlakes": true,
           "showland": true,
           "subunitcolor": "white"
          },
          "hoverlabel": {
           "align": "left"
          },
          "hovermode": "closest",
          "mapbox": {
           "style": "light"
          },
          "paper_bgcolor": "white",
          "plot_bgcolor": "#E5ECF6",
          "polar": {
           "angularaxis": {
            "gridcolor": "white",
            "linecolor": "white",
            "ticks": ""
           },
           "bgcolor": "#E5ECF6",
           "radialaxis": {
            "gridcolor": "white",
            "linecolor": "white",
            "ticks": ""
           }
          },
          "scene": {
           "xaxis": {
            "backgroundcolor": "#E5ECF6",
            "gridcolor": "white",
            "gridwidth": 2,
            "linecolor": "white",
            "showbackground": true,
            "ticks": "",
            "zerolinecolor": "white"
           },
           "yaxis": {
            "backgroundcolor": "#E5ECF6",
            "gridcolor": "white",
            "gridwidth": 2,
            "linecolor": "white",
            "showbackground": true,
            "ticks": "",
            "zerolinecolor": "white"
           },
           "zaxis": {
            "backgroundcolor": "#E5ECF6",
            "gridcolor": "white",
            "gridwidth": 2,
            "linecolor": "white",
            "showbackground": true,
            "ticks": "",
            "zerolinecolor": "white"
           }
          },
          "shapedefaults": {
           "line": {
            "color": "#2a3f5f"
           }
          },
          "ternary": {
           "aaxis": {
            "gridcolor": "white",
            "linecolor": "white",
            "ticks": ""
           },
           "baxis": {
            "gridcolor": "white",
            "linecolor": "white",
            "ticks": ""
           },
           "bgcolor": "#E5ECF6",
           "caxis": {
            "gridcolor": "white",
            "linecolor": "white",
            "ticks": ""
           }
          },
          "title": {
           "x": 0.05
          },
          "xaxis": {
           "automargin": true,
           "gridcolor": "white",
           "linecolor": "white",
           "ticks": "",
           "title": {
            "standoff": 15
           },
           "zerolinecolor": "white",
           "zerolinewidth": 2
          },
          "yaxis": {
           "automargin": true,
           "gridcolor": "white",
           "linecolor": "white",
           "ticks": "",
           "title": {
            "standoff": 15
           },
           "zerolinecolor": "white",
           "zerolinewidth": 2
          }
         }
        },
        "title": {
         "text": "Machine_Type_Lathe Over Time"
        },
        "xaxis": {
         "anchor": "y",
         "domain": [
          0,
          1
         ],
         "title": {
          "text": "index"
         }
        },
        "yaxis": {
         "anchor": "x",
         "domain": [
          0,
          1
         ],
         "title": {
          "text": "Machine_Type_Lathe"
         }
        }
       }
      }
     },
     "metadata": {},
     "output_type": "display_data"
    }
   ],
   "source": [
    "# Plot time series of the selected feature\n",
    "fig = px.line(df, x=df.index, y=selected_feature_dropdown.value,\n",
    "              title=f\"{selected_feature_dropdown.value} Over Time\")\n",
    "\n",
    "fig.show()\n"
   ]
  }
 ],
 "metadata": {
  "kernelspec": {
   "display_name": "Python 3",
   "language": "python",
   "name": "python3"
  },
  "language_info": {
   "codemirror_mode": {
    "name": "ipython",
    "version": 3
   },
   "file_extension": ".py",
   "mimetype": "text/x-python",
   "name": "python",
   "nbconvert_exporter": "python",
   "pygments_lexer": "ipython3",
   "version": "3.11.1"
  }
 },
 "nbformat": 4,
 "nbformat_minor": 2
}
